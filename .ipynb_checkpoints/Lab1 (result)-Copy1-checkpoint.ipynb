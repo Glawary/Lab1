{
 "cells": [
  {
   "cell_type": "code",
   "execution_count": 3,
   "id": "96c82b4b",
   "metadata": {},
   "outputs": [],
   "source": [
    "import matplotlib.pyplot as plt\n",
    "import numpy as np\n",
    "import pandas as pd"
   ]
  },
  {
   "cell_type": "code",
   "execution_count": 4,
   "id": "111033f4",
   "metadata": {},
   "outputs": [],
   "source": [
    "dates = pd.read_excel(\"dates.xlsx\", sheet_name=\"Лист1\")"
   ]
  },
  {
   "cell_type": "code",
   "execution_count": 5,
   "id": "67194bee",
   "metadata": {},
   "outputs": [],
   "source": [
    "x_dates = np.arange(np.datetime64('2022-08-01'), np.datetime64('2022-09-18'), dtype='datetime64[D]')\n",
    "y_atm_pr = dates['Pressure']"
   ]
  },
  {
   "cell_type": "code",
   "execution_count": 6,
   "id": "d3e97384",
   "metadata": {},
   "outputs": [
    {
     "data": {
      "image/png": "[encoded data removed]",
      "text/plain": [
       "<Figure size 432x288 with 1 Axes>"
      ]
     },
     "metadata": {
      "needs_background": "light"
     },
     "output_type": "display_data"
    }
   ],
   "source": [
    "from datetime import datetime, timedelta\n",
    "import matplotlib as mpl\n",
    "fig, ax = plt.subplots()\n",
    "x = x_dates\n",
    "y = dates[\"Pressure\"]\n",
    "ax.plot(x, y)\n",
    "# ax.set(xlim=(0, 40), xticks=np.arange(0,41,5), ylim=(0, 100), yticks=np.arange(0,101, 10))\n",
    "ax.set(xticks=np.arange(np.datetime64('2022-08-01'), np.datetime64('2022-09-18'), np.timedelta64(3,'D')))\n",
    "cdf = mpl.dates.ConciseDateFormatter(ax.xaxis.get_major_locator())\n",
    "ax.xaxis.set_major_formatter(cdf);\n",
    "ax.set_xlabel('Date (day)')\n",
    "ax.set_ylabel('Atmosphere Pressure (mm Hg)')\n",
    "# ax.set_title('Climate')\n",
    "ax.grid('True')\n",
    "plt.show()\n",
    "fig.savefig(\"plot_easy.png\")"
   ]
  },
  {
   "cell_type": "code",
   "execution_count": 7,
   "id": "55dff9e2",
   "metadata": {},
   "outputs": [],
   "source": [
    "arr = y_atm_pr.copy()\n",
    "window_size = 3\n",
    "\n",
    "i = 0\n",
    "# Initialize an empty list to store moving averages\n",
    "moving_averages_3 = np.array([])\n",
    "  \n",
    "# Loop through the array to consider\n",
    "# every window of size 3\n",
    "while i < arr.size - window_size + 1:\n",
    "    \n",
    "    # Store elements from i to i+window_size\n",
    "    # in list to get the current window\n",
    "    window = arr[i : i + window_size]\n",
    "  \n",
    "    # Calculate the average of current window\n",
    "    window_average = np.round(np.sum(window) / window_size, 2)\n",
    "      \n",
    "    # Store the average of current\n",
    "    # window in moving average list\n",
    "    moving_averages_3 = np.append(moving_averages_3, [[window_average]])\n",
    "      \n",
    "    # Shift window to right by one position\n",
    "    i += 1"
   ]
  },
  {
   "cell_type": "code",
   "execution_count": 8,
   "id": "52196816",
   "metadata": {},
   "outputs": [],
   "source": [
    "arr = y_atm_pr.copy()\n",
    "window_size = 4\n",
    "\n",
    "i = 0\n",
    "# Initialize an empty list to store moving averages\n",
    "moving_averages_4 = np.array([])\n",
    "  \n",
    "# Loop through the array to consider\n",
    "# every window of size 4\n",
    "while i < arr.size - window_size + 1:\n",
    "    \n",
    "    # Store elements from i to i+window_size\n",
    "    # in list to get the current window\n",
    "    window = arr[i : i + window_size]\n",
    "  \n",
    "    # Calculate the average of current window\n",
    "    window_average = np.round(np.sum(window) / window_size, 2)\n",
    "      \n",
    "    # Store the average of current\n",
    "    # window in moving average list\n",
    "    moving_averages_4 = np.append(moving_averages_4, [[window_average]])\n",
    "      \n",
    "    # Shift window to right by one position\n",
    "    i += 1"
   ]
  },
  {
   "cell_type": "code",
   "execution_count": 9,
   "id": "b79887d5",
   "metadata": {},
   "outputs": [],
   "source": [
    "arr = y_atm_pr.copy()\n",
    "window_size = 5\n",
    "\n",
    "i = 0\n",
    "# Initialize an empty list to store moving averages\n",
    "moving_averages_5 = np.array([])\n",
    "  \n",
    "# Loop through the array to consider\n",
    "# every window of size 5\n",
    "while i < arr.size - window_size + 1:\n",
    "    \n",
    "    # Store elements from i to i+window_size\n",
    "    # in list to get the current window\n",
    "    window = arr[i : i + window_size]\n",
    "  \n",
    "    # Calculate the average of current window\n",
    "    window_average = np.round(np.sum(window) / window_size, 2)\n",
    "      \n",
    "    # Store the average of current\n",
    "    # window in moving average list\n",
    "    moving_averages_5 = np.append(moving_averages_5, [[window_average]])\n",
    "      \n",
    "    # Shift window to right by one position\n",
    "    i += 1"
   ]
  },
  {
   "cell_type": "code",
   "execution_count": 10,
   "id": "7dbcb49d",
   "metadata": {},
   "outputs": [],
   "source": [
    "arr = y_atm_pr.copy()\n",
    "window_size = 6\n",
    "\n",
    "i = 0\n",
    "# Initialize an empty list to store moving averages\n",
    "moving_averages_6 = np.array([])\n",
    "  \n",
    "# Loop through the array to consider\n",
    "# every window of size 6\n",
    "while i < arr.size - window_size + 1:\n",
    "    \n",
    "    # Store elements from i to i+window_size\n",
    "    # in list to get the current window\n",
    "    window = arr[i : i + window_size]\n",
    "  \n",
    "    # Calculate the average of current window\n",
    "    window_average = np.round(np.sum(window) / window_size, 2)\n",
    "      \n",
    "    # Store the average of current\n",
    "    # window in moving average list\n",
    "    moving_averages_6 = np.append(moving_averages_6, [[window_average]])\n",
    "      \n",
    "    # Shift window to right by one position\n",
    "    i += 1"
   ]
  },
  {
   "cell_type": "code",
   "execution_count": 11,
   "id": "cace7515",
   "metadata": {},
   "outputs": [],
   "source": [
    "arr = y_atm_pr.copy()\n",
    "window_size = 10\n",
    "\n",
    "i = 0\n",
    "# Initialize an empty list to store moving averages\n",
    "moving_averages_10 = np.array([])\n",
    "  \n",
    "# Loop through the array to consider\n",
    "# every window of size 6\n",
    "while i < arr.size - window_size + 1:\n",
    "    \n",
    "    # Store elements from i to i+window_size\n",
    "    # in list to get the current window\n",
    "    window = arr[i : i + window_size]\n",
    "  \n",
    "    # Calculate the average of current window\n",
    "    window_average = np.round(np.sum(window) / window_size, 2)\n",
    "      \n",
    "    # Store the average of current\n",
    "    # window in moving average list\n",
    "    moving_averages_10 = np.append(moving_averages_10, [[window_average]])\n",
    "      \n",
    "    # Shift window to right by one position\n",
    "    i += 1"
   ]
  },
  {
   "cell_type": "code",
   "execution_count": 12,
   "id": "dfbcdca9",
   "metadata": {},
   "outputs": [],
   "source": [
    "moving_averages = [moving_averages_3, moving_averages_4, moving_averages_5, moving_averages_6]"
   ]
  },
  {
   "cell_type": "code",
   "execution_count": 13,
   "id": "d7fc054c",
   "metadata": {},
   "outputs": [],
   "source": [
    "y_atm_pr_for_3 = y_atm_pr[1:1+moving_averages_3.size]\n",
    "y_atm_pr_for_4 = y_atm_pr[1:1+moving_averages_4.size]\n",
    "y_atm_pr_for_5 = y_atm_pr[2:2+moving_averages_5.size]\n",
    "y_atm_pr_for_6 = y_atm_pr[2:2+moving_averages_6.size]\n",
    "y_atm_pr_for = [y_atm_pr_for_3, y_atm_pr_for_4, y_atm_pr_for_5, y_atm_pr_for_6]"
   ]
  },
  {
   "cell_type": "code",
   "execution_count": 14,
   "id": "ec8bda86",
   "metadata": {},
   "outputs": [],
   "source": [
    "mse3 = np.sqrt(np.sum(np.square(np.subtract(y_atm_pr_for_3, moving_averages_3)))/3)\n",
    "mse4 = np.sqrt(np.sum(np.square(np.subtract(y_atm_pr_for_4, moving_averages_4)))/4)\n",
    "mse5 = np.sqrt(np.sum(np.square(np.subtract(y_atm_pr_for_5, moving_averages_5)))/5)\n",
    "mse6 = np.sqrt(np.sum(np.square(np.subtract(y_atm_pr_for_6, moving_averages_6)))/6)\n",
    "mse = [mse3, mse4, mse5, mse6]"
   ]
  },
  {
   "cell_type": "code",
   "execution_count": 15,
   "id": "51b02029",
   "metadata": {},
   "outputs": [
    {
     "data": {
      "image/png": "[encoded data removed]",
      "text/plain": [
       "<Figure size 432x288 with 1 Axes>"
      ]
     },
     "metadata": {
      "needs_background": "light"
     },
     "output_type": "display_data"
    }
   ],
   "source": [
    "fig, ax = plt.subplots()\n",
    "x_mse = np.array([3, 4, 5, 7])\n",
    "y_mse = mse\n",
    "ax.plot(x_mse, y_mse)\n",
    "ax.set_xlabel('Number of MSE')\n",
    "ax.set_ylabel('Value of MSE')\n",
    "ax.set(ylim = (4, 6.25))\n",
    "ax.grid(True)\n",
    "plt.show()\n",
    "fig.savefig(\"MSE_from_count.png\")"
   ]
  },
  {
   "cell_type": "code",
   "execution_count": 16,
   "id": "ce6061d4",
   "metadata": {},
   "outputs": [],
   "source": [
    "mse_index = mse.index(np.min(mse))"
   ]
  },
  {
   "cell_type": "code",
   "execution_count": 17,
   "id": "25a308f5",
   "metadata": {},
   "outputs": [],
   "source": [
    "moving_averages_min = moving_averages[mse_index]\n",
    "y_atm_pr_for_min = y_atm_pr_for[mse_index]"
   ]
  },
  {
   "cell_type": "code",
   "execution_count": 18,
   "id": "eb3029df",
   "metadata": {},
   "outputs": [],
   "source": [
    "mv = pd.Series(index = np.arange(1, moving_averages_min.size+1), data = moving_averages_min)"
   ]
  },
  {
   "cell_type": "code",
   "execution_count": 19,
   "id": "85ba9401",
   "metadata": {},
   "outputs": [],
   "source": [
    "mv.to_excel(\"moving_averages.xlsx\")"
   ]
  },
  {
   "cell_type": "code",
   "execution_count": 20,
   "id": "f499a3ef",
   "metadata": {},
   "outputs": [
    {
     "data": {
      "image/png": "[encoded data removed]",
      "text/plain": [
       "<Figure size 432x288 with 1 Axes>"
      ]
     },
     "metadata": {
      "needs_background": "light"
     },
     "output_type": "display_data"
    }
   ],
   "source": [
    "from datetime import datetime, timedelta\n",
    "import matplotlib as mpl\n",
    "fig, ax = plt.subplots()\n",
    "x = x_dates\n",
    "y = dates[\"Pressure\"]\n",
    "ax.plot(x, y, label = \"line\")\n",
    "# ax.set(xlim=(0, 40), xticks=np.arange(0,41,5), ylim=(0, 100), yticks=np.arange(0,101, 10))\n",
    "x_new = x_dates[1:moving_averages_min.size+1]\n",
    "# y_new = dates_with_the_best_err[\"Pressure\"]\n",
    "y_new = moving_averages_min\n",
    "ax.plot(x_new, y_new, label = \"line with the best MSE\")\n",
    "ax.set(xticks=np.arange(np.datetime64('2022-08-01'), np.datetime64('2022-09-18'), np.timedelta64(3,'D')))\n",
    "cdf = mpl.dates.ConciseDateFormatter(ax.xaxis.get_major_locator())\n",
    "ax.xaxis.set_major_formatter(cdf);\n",
    "ax.set_xlabel('Date (day)')\n",
    "ax.set_ylabel('Atmosphere Pressure (mm Hg)')\n",
    "# ax.set_title('Climate')\n",
    "ax.grid('True')\n",
    "ax.legend()\n",
    "plt.show()\n",
    "fig.savefig(\"plot1.png\");"
   ]
  },
  {
   "cell_type": "code",
   "execution_count": 21,
   "id": "df320c90",
   "metadata": {},
   "outputs": [
    {
     "data": {
      "image/png": "[encoded data removed]",
      "text/plain": [
       "<Figure size 432x288 with 1 Axes>"
      ]
     },
     "metadata": {
      "needs_background": "light"
     },
     "output_type": "display_data"
    }
   ],
   "source": [
    "fig, ax = plt.subplots()\n",
    "x_mv3 = x_dates[1:moving_averages_3.size+1]\n",
    "# x_mv6 = x_dates[2:moving_averages_6.size+2]\n",
    "x_mv10 = x_dates[5:moving_averages_10.size+5]\n",
    "y_mse_3 = moving_averages_3\n",
    "# y_mse_6 = moving_averages_6\n",
    "y_mse_10 = moving_averages_10\n",
    "\n",
    "ax.plot(x_mv3, y_mse_3, label = \"line_MSE_3\")\n",
    "# ax.plot(x_mv6, y_mse_6, label = \"line2\")\n",
    "ax.plot(x_mv10, y_mse_10, label = \"line_MSE_10\")\n",
    "ax.set(xticks=np.arange(np.datetime64('2022-08-01'), np.datetime64('2022-09-18'), np.timedelta64(3,'D')))\n",
    "cdf = mpl.dates.ConciseDateFormatter(ax.xaxis.get_major_locator())\n",
    "ax.xaxis.set_major_formatter(cdf);\n",
    "ax.set_xlabel('Number of MSE')\n",
    "ax.set_ylabel('Value of MSE')\n",
    "# ax.set(ylim = (4, 6.25))\n",
    "ax.grid(True)\n",
    "ax.legend()\n",
    "plt.show()\n",
    "fig.savefig(\"MSE_from_count.png\")"
   ]
  },
  {
   "cell_type": "code",
   "execution_count": 22,
   "id": "b620a0ab",
   "metadata": {},
   "outputs": [],
   "source": [
    "h = (np.max(np.sort(y_atm_pr))-np.min(np.sort(y_atm_pr)))/(1+3.322*np.log10(48))"
   ]
  },
  {
   "cell_type": "code",
   "execution_count": 23,
   "id": "940c19a4",
   "metadata": {},
   "outputs": [],
   "source": [
    "y_atm_pr_with_h = np.arange(np.min(y_atm_pr), np.max(y_atm_pr)+1, h)"
   ]
  },
  {
   "cell_type": "code",
   "execution_count": 24,
   "id": "af2d25a4",
   "metadata": {},
   "outputs": [
    {
     "data": {
      "text/plain": [
       "array([735.        , 738.49274241, 741.98548481, 745.47822722,\n",
       "       748.97096962, 752.46371203, 755.95645443])"
      ]
     },
     "execution_count": 24,
     "metadata": {},
     "output_type": "execute_result"
    }
   ],
   "source": [
    "y_atm_pr_with_h"
   ]
  },
  {
   "cell_type": "code",
   "execution_count": 25,
   "id": "b06da39e",
   "metadata": {},
   "outputs": [],
   "source": [
    "min_y = np.min(y_atm_pr)\n",
    "max_y_1 = np.max(y_atm_pr)\n",
    "max_y_2 = np.max(y_atm_pr_with_h)"
   ]
  },
  {
   "cell_type": "code",
   "execution_count": 26,
   "id": "940b2876",
   "metadata": {},
   "outputs": [
    {
     "data": {
      "image/png": "[encoded data removed]",
      "text/plain": [
       "<Figure size 432x288 with 1 Axes>"
      ]
     },
     "metadata": {
      "needs_background": "light"
     },
     "output_type": "display_data"
    }
   ],
   "source": [
    "fig, ax = plt.subplots()\n",
    "# dates = pd.read_excel(\"dates.xlsx\", sheet_name=\"Лист1\")\n",
    "# y_atm_pr = dates['Pressure']\n",
    "count, bins, ignored = ax.hist(np.sort(y_atm_pr), bins = np.arange(min_y, max_y_2+2*h, h), density=True, label='hist')\n",
    "# ax.plot(bins, 1/(sigma * np.sqrt(2 *np.pi)) *\n",
    "#         np.exp( - (bins - mu)**2/ (2 * sigma**2) ),\n",
    "#         linewidth=2, color='r', label='line')\n",
    "# [h for i in range(y_atm_pr_with_h.size-1)]\n",
    "# ax.set(xlim=(np.min(data2),np.max(data2)), xticks=np.arange(np.min(data2), np.max(data2_with_h), h))\n",
    "import matplotlib.pyplot as plt\n",
    "import numpy as np\n",
    "import scipy.stats as stats\n",
    "import math\n",
    "\n",
    "mu = np.mean(y_atm_pr)\n",
    "sigma = np.std(y_atm_pr)\n",
    "# sigma = math.sqrt(variance)\n",
    "x = np.linspace(mu - 3*sigma, mu + 3*sigma, 100)\n",
    "ax.plot(x, stats.norm.pdf(x, mu, sigma), label='line')\n",
    "dates = pd.read_excel(\"dates.xlsx\", sheet_name=\"Лист1\")\n",
    "y_atm_pr = dates['Pressure']\n",
    "ax.set(xlim=(min_y, max_y_2+h),xticks=np.arange(min_y, max_y_2+2*h, h))\n",
    "# ax.axis([15, 108, 0, 0.033])\n",
    "# ax.annotate('local max', xy=(np.mean(data2), 200), xytext=(np.mean(data2), 100),\n",
    "#             arrowprops=dict(facecolor='black', shrink=0.05))\n",
    "# ax.set_xlim(np.min(data2), np.max(data2))\n",
    "# ax.set(xlim=(np.min(data2),np.max(data2)), xticks=np.linspace(np.min(data2), np.max(data2_with_h), data2_with_h.size))\n",
    "ax.set_xlabel('Atmosphere Pressure (mm Hg)')\n",
    "ax.set_ylabel('Posibility')\n",
    "# ax.set_title('Histogram')\n",
    "ax.legend()\n",
    "plt.show()\n",
    "fig.savefig(\"hist1.png\");"
   ]
  },
  {
   "cell_type": "code",
   "execution_count": 27,
   "id": "fabb54e4",
   "metadata": {},
   "outputs": [
    {
     "name": "stdout",
     "output_type": "stream",
     "text": [
      "Collecting package metadata (current_repodata.json): ...working... done\n",
      "Solving environment: ...working... done\n",
      "\n",
      "# All requested packages already installed.\n",
      "\n",
      "Retrieving notices: ...working... done\n",
      "\n",
      "Note: you may need to restart the kernel to use updated packages.\n"
     ]
    }
   ],
   "source": [
    "conda install shapely"
   ]
  },
  {
   "cell_type": "code",
   "execution_count": 28,
   "id": "eeac6c9c",
   "metadata": {},
   "outputs": [
    {
     "data": {
      "image/png": "[encoded data removed]",
      "text/plain": [
       "<Figure size 432x288 with 1 Axes>"
      ]
     },
     "metadata": {
      "needs_background": "light"
     },
     "output_type": "display_data"
    }
   ],
   "source": [
    "import shapely.geometry as SG\n",
    "import matplotlib.pyplot as plt\n",
    "import numpy as np\n",
    "import scipy.stats as stats\n",
    "import math\n",
    "\n",
    "fig, ax = plt.subplots()\n",
    "count, bins, ignored = ax.hist(np.sort(y_atm_pr), bins = np.arange(min_y, max_y_2+2*h, h), density=True, label='hist')\n",
    "\n",
    "mu = np.mean(y_atm_pr)\n",
    "sigma = np.std(y_atm_pr)\n",
    "\n",
    "x = np.linspace(mu - 3*sigma, mu + 3*sigma, 48)\n",
    "ax.plot(x, stats.norm.pdf(x, mu, sigma), label='line')\n",
    "\n",
    "# x0 = 736\n",
    "ax = plt.gca()\n",
    "p = ax.patches\n",
    "\n",
    "line = plt.gca().get_lines()[0]\n",
    "xd = line.get_xdata()\n",
    "yd = line.get_ydata()\n",
    "\n",
    "# line = SG.LineString(list(zip(x, y)))\n",
    "# yline = SG.LineString([(x0, min(y)), (x0, max(y))])\n",
    "ax.axvline(x=747, color='k', linestyle='--')\n",
    "ax.axvline(x=752, color='k', linestyle='--')\n",
    "ax.axvline(x=757, color='k', linestyle='--')\n",
    "ax.axvline(x=742, color='k', linestyle='--')\n",
    "ax.axvline(x=737, color='k', linestyle='--')\n",
    "\n",
    "ax.text(751, 0.07, r\"$\\mu$\")\n",
    "ax.text(745.6, 0.07, r\"$-\\sigma$\")\n",
    "ax.text(757.2, 0.07, r\"$\\sigma$\")\n",
    "ax.text(740, 0.07, r\"$-2\\sigma$\")\n",
    "ax.text(735, 0.07, r\"$-3\\sigma$\")\n",
    "\n",
    "# ax.scatter([0],[752], s=50, c='red')\n",
    "\n",
    "ax.set(xlim=(min_y, max_y_2+h),xticks=np.arange(min_y, max_y_2+2*h, h))\n",
    "ax.set_xlabel('Atmosphere Pressure (mm Hg)')\n",
    "ax.set_ylabel('Posibility')\n",
    "ax.legend()\n",
    "plt.show();\n",
    "fig.savefig(\"hist1.png\");"
   ]
  },
  {
   "cell_type": "code",
   "execution_count": 29,
   "id": "91bb184e",
   "metadata": {},
   "outputs": [],
   "source": [
    "x_arr_for_line = []\n",
    "frequency_arr_hist = []\n",
    "for i in range(y_atm_pr_with_h.size):\n",
    "    x_arr_for_line.append(p[i].get_xy()[0] + p[i].get_width()/2)\n",
    "    frequency_arr_hist.append(p[i].get_height())\n",
    "#     print(p[i].get_xy()[0] + p[i].get_width()/2, p[i].get_height())"
   ]
  },
  {
   "cell_type": "code",
   "execution_count": 30,
   "id": "aef83a58",
   "metadata": {},
   "outputs": [],
   "source": [
    "# np.where(xd == 734)[0][0]\n",
    "frequency_arr_line = []\n",
    "for i in range(y_atm_pr_with_h.size):\n",
    "    frequency_arr_line.append(stats.norm.pdf(x_arr_for_line[i], mu, sigma))\n",
    "# frequency_arr_line"
   ]
  },
  {
   "cell_type": "code",
   "execution_count": 31,
   "id": "86db884b",
   "metadata": {},
   "outputs": [
    {
     "data": {
      "text/plain": [
       "[0.017894248343917663,\n",
       " 0.005964749447972554,\n",
       " 0.023858997791890216,\n",
       " 0.011929498895945108,\n",
       " 0.10140074061553343,\n",
       " 0.09543599116756087,\n",
       " 0.02982374723986277]"
      ]
     },
     "execution_count": 31,
     "metadata": {},
     "output_type": "execute_result"
    }
   ],
   "source": [
    "frequency_arr_hist"
   ]
  },
  {
   "cell_type": "code",
   "execution_count": 32,
   "id": "507dea64",
   "metadata": {},
   "outputs": [
    {
     "data": {
      "text/plain": [
       "[0.0023407877328187497,\n",
       " 0.01081212630174774,\n",
       " 0.03214725378020385,\n",
       " 0.06152623473825029,\n",
       " 0.0757984785582418,\n",
       " 0.06010966807935145,\n",
       " 0.030683992094056322]"
      ]
     },
     "execution_count": 32,
     "metadata": {},
     "output_type": "execute_result"
    }
   ],
   "source": [
    "frequency_arr_line"
   ]
  },
  {
   "cell_type": "code",
   "execution_count": 33,
   "id": "e5ca97a4",
   "metadata": {},
   "outputs": [
    {
     "name": "stdout",
     "output_type": "stream",
     "text": [
      "chi square value determined by formula : 0.1770689310793511\n",
      "12.591587243743977\n"
     ]
    }
   ],
   "source": [
    "import scipy.stats as stats\n",
    "import numpy as np\n",
    "\n",
    "sen = [1, 1, 3, 2, 1, 4, 1]\n",
    "chi_square_test_statistic1 = 0\n",
    "for i in range(len(frequency_arr_hist)):\n",
    "    chi_square_test_statistic1 = chi_square_test_statistic1 + \\\n",
    "        (np.square(frequency_arr_hist[i]-frequency_arr_line[i]))/frequency_arr_line[i]\n",
    "\n",
    "print('chi square value determined by formula : ' +\n",
    "  str(chi_square_test_statistic1))\n",
    "  \n",
    "# find Chi-Square critical value\n",
    "print(stats.chi2.ppf(1-0.05, df =len(frequency_arr_hist)-1))"
   ]
  },
  {
   "cell_type": "code",
   "execution_count": 35,
   "id": "68a47d5f",
   "metadata": {},
   "outputs": [
    {
     "data": {
      "image/png": "[encoded data removed]",
      "text/plain": [
       "<Figure size 432x288 with 1 Axes>"
      ]
     },
     "metadata": {
      "needs_background": "light"
     },
     "output_type": "display_data"
    }
   ],
   "source": [
    "import numpy as np\n",
    "import matplotlib.pyplot as plt\n",
    "\n",
    "\n",
    "fig1, ax = plt.subplots()\n",
    "ax.boxplot(y_atm_pr,patch_artist=True,  medianprops={\"color\": \"white\", \"linewidth\": 0.5},\n",
    "                boxprops={\"facecolor\": \"C0\", \"edgecolor\": \"white\",\n",
    "                          \"linewidth\": 0.5},\n",
    "                whiskerprops={\"color\": \"C0\", \"linewidth\": 1.5},\n",
    "                capprops={\"color\": \"C0\", \"linewidth\": 1.5})\n",
    "# ax.plot(1, 766.579222,'o-', color='green')\n",
    "# ax.plot([0.5, 1, 1.5], [734.67, 734.67, 734.67])\n",
    "# ax.plot([0.5, 1, 1.5], [761.261148, 761.261148, 761.261148])\n",
    "# ax.plot([0.5, 1, 1.5], [739.988852, 739.988852, 739.988852])\n",
    "# ax.axhline(y=, color='k', linestyle='--')\n",
    "\n",
    "ax.text(1.09, 735.5, r\"$\\mu=750.625$\" + \"\\n\" + r\"$\\sigma=5.318074$\" + \"\\n\"  +  \"min = 735.0\" + \"\\n\" + \"max = 758.0\" + \"\\n\" \\\n",
    "        + \"IQR - Interquartile Range\" + \"\\n\" + \"IQR = (749.0, 754.0)\", bbox=dict(facecolor='none', edgecolor='C0'))\n",
    "ax.grid('True')\n",
    "\n",
    "\n",
    "# ax.set_title('Boxplot')\n",
    "ax.set_ylabel(\"Atmosphere Pressure (mm Hg)\")\n",
    "plt.show()\n",
    "fig.savefig(\"boxplot2.png\");"
   ]
  },
  {
   "cell_type": "code",
   "execution_count": 36,
   "id": "c7945ccf",
   "metadata": {},
   "outputs": [],
   "source": [
    "import numpy as np\n",
    "\n",
    "#define custom function\n",
    "def g_mean(x):\n",
    "    a = np.log(x)\n",
    "    return np.exp(a.mean())\n",
    "\n",
    "#calculate geometric mean "
   ]
  },
  {
   "cell_type": "code",
   "execution_count": 37,
   "id": "666918a9",
   "metadata": {},
   "outputs": [],
   "source": [
    "from scipy.stats import skew\n",
    "skew = skew(y_atm_pr, axis=0, bias=True)\n",
    "from scipy.stats import kurtosis\n",
    "kurtosis = kurtosis(y_atm_pr, axis=0, bias=True)"
   ]
  },
  {
   "cell_type": "code",
   "execution_count": 38,
   "id": "464c307a",
   "metadata": {},
   "outputs": [],
   "source": [
    "skew = np.round(skew, 3)\n",
    "kurtosis = np.round(kurtosis, 3)"
   ]
  },
  {
   "cell_type": "code",
   "execution_count": 39,
   "id": "a4d7b9a5",
   "metadata": {},
   "outputs": [
    {
     "data": {
      "text/plain": [
       "-1.199"
      ]
     },
     "execution_count": 39,
     "metadata": {},
     "output_type": "execute_result"
    }
   ],
   "source": [
    "skew"
   ]
  },
  {
   "cell_type": "code",
   "execution_count": 40,
   "id": "62da40f9",
   "metadata": {},
   "outputs": [
    {
     "data": {
      "text/plain": [
       "0.963"
      ]
     },
     "execution_count": 40,
     "metadata": {},
     "output_type": "execute_result"
    }
   ],
   "source": [
    "kurtosis"
   ]
  },
  {
   "cell_type": "code",
   "execution_count": 41,
   "id": "2bb6f3ff",
   "metadata": {},
   "outputs": [],
   "source": [
    "min = np.min(y_atm_pr)\n",
    "max = np.max(y_atm_pr)"
   ]
  },
  {
   "cell_type": "code",
   "execution_count": 42,
   "id": "4f3ff15d",
   "metadata": {},
   "outputs": [],
   "source": [
    "from scipy import stats as st\n",
    "import numpy as np\n",
    "mode_start = st.mode(y_atm_pr)"
   ]
  },
  {
   "cell_type": "code",
   "execution_count": 43,
   "id": "89994dc5",
   "metadata": {},
   "outputs": [],
   "source": [
    "mean_chron = ((y_atm_pr[0]+y_atm_pr[y_atm_pr.size-1])/2 + np.sum(y_atm_pr[1:-1]))/ (y_atm_pr.size-1)"
   ]
  },
  {
   "cell_type": "code",
   "execution_count": 44,
   "id": "193f760b",
   "metadata": {},
   "outputs": [],
   "source": [
    "mean = dates.describe().loc['mean'].astype(int)[0]\n",
    "median_Q2 = dates.describe().loc['50%'].astype(int)[0]\n",
    "mode = np.floor(mode_start).astype(int)[0,0]\n",
    "std = dates.describe().loc['std'].astype(int)[0]\n",
    "Q1 = dates.describe().loc['25%'].astype(int)[0]\n",
    "Q3 = dates.describe().loc['75%'].astype(int)[0]\n",
    "g_mean_int = np.floor(g_mean(y_atm_pr)).astype(int)\n",
    "count = y_atm_pr.size\n",
    "mean_chron = np.floor(mean_chron).astype(int)"
   ]
  },
  {
   "cell_type": "code",
   "execution_count": 45,
   "id": "e36289e0",
   "metadata": {},
   "outputs": [],
   "source": [
    "statistic_table = pd.Series(data=[mean, median_Q2, mode, std, Q1, Q3, g_mean_int, skew, kurtosis, count, mean_chron], index=[\"mean\", \"median(Q2)\", \"mode\", \"std\", \"Q1\", \"Q3\", \"g_mean\", \"skew\", \"kurtosis\", \"count\", \"mean_chron\"])"
   ]
  },
  {
   "cell_type": "code",
   "execution_count": 46,
   "id": "31cb7bd5",
   "metadata": {},
   "outputs": [
    {
     "data": {
      "text/plain": [
       "mean          750.000\n",
       "median(Q2)    752.000\n",
       "mode          753.000\n",
       "std             5.000\n",
       "Q1            749.000\n",
       "Q3            754.000\n",
       "g_mean        750.000\n",
       "skew           -1.199\n",
       "kurtosis        0.963\n",
       "count          48.000\n",
       "mean_chron    750.000\n",
       "dtype: float64"
      ]
     },
     "execution_count": 46,
     "metadata": {},
     "output_type": "execute_result"
    }
   ],
   "source": [
    "statistic_table"
   ]
  },
  {
   "cell_type": "code",
   "execution_count": 167,
   "id": "af9656b6",
   "metadata": {},
   "outputs": [
    {
     "data": {
      "image/png": "[encoded data removed]",
      "text/plain": [
       "<Figure size 432x288 with 1 Axes>"
      ]
     },
     "metadata": {
      "needs_background": "light"
     },
     "output_type": "display_data"
    }
   ],
   "source": [
    "import numpy as np\n",
    "import matplotlib.pyplot as plt\n",
    "\n",
    "\n",
    "fig1, ax = plt.subplots()\n",
    "ax.boxplot(y_atm_pr,patch_artist=True,  medianprops={\"color\": \"white\", \"linewidth\": 0.5},\n",
    "                boxprops={\"facecolor\": \"C0\", \"edgecolor\": \"white\",\n",
    "                          \"linewidth\": 0.5},\n",
    "                whiskerprops={\"color\": \"C0\", \"linewidth\": 1.5},\n",
    "                capprops={\"color\": \"C0\", \"linewidth\": 1.5})\n",
    "# ax.plot(1, 766.579222,'o-', color='green')\n",
    "# ax.plot([0.5, 1, 1.5], [734.67, 734.67, 734.67])\n",
    "# ax.plot([0.5, 1, 1.5], [761.261148, 761.261148, 761.261148])\n",
    "# ax.plot([0.5, 1, 1.5], [739.988852, 739.988852, 739.988852])\n",
    "ax.axhline(y=mean+std, xmin = 0.37, xmax = 0.63, color='k', linestyle='--')\n",
    "ax.axhline(y=mean-std, xmin = 0.37, xmax = 0.63, color='k', linestyle='--')\n",
    "ax.axhline(y=mean-2*std, xmin = 0.37, xmax = 0.63, color='k', linestyle='--')\n",
    "ax.axhline(y=mean-3*std, xmin = 0.37, xmax = 0.63, color='k', linestyle='--')\n",
    "ax.axhline(y=mean, xmin = 0.37, xmax = 0.63, color='k', linestyle='--')\n",
    "# ax.axhline(y=mean-std, color='k', linestyle='--')\n",
    "# ax.axhline(y=mean-std, color='k', linestyle='--')\n",
    "ax.text(0.83, mean, r\"$\\mu$\")\n",
    "ax.text(0.83, mean+std, r\"$\\sigma$\")\n",
    "ax.text(0.80, mean-std, r\"$-\\sigma$\")\n",
    "ax.text(0.79, mean-2*std, r\"$-2\\sigma$\")\n",
    "ax.text(0.79, mean-3*std, r\"$-3\\sigma$\")\n",
    "ax.arrow(0.88, mean, 0, std-0.7, width = 0.002, head_length = 0.7)\n",
    "ax.arrow(0.88, mean, 0, -std+0.7, width = 0.002, head_length = 0.7)\n",
    "ax.arrow(0.88, mean-std-std/2, 0, -std/2+0.7, width = 0.002, head_length = 0.7)\n",
    "ax.arrow(0.88, mean-std-std/2, 0, std/2-0.7, width = 0.002, head_length = 0.7)\n",
    "ax.arrow(0.88, mean-2*std-std/2, 0, -std/2+0.7, width = 0.002, head_length = 0.7)\n",
    "ax.arrow(0.88, mean-2*std-std/2, 0, std/2-0.7, width = 0.002, head_length = 0.7)\n",
    "\n",
    "ax.text(1.2, 736, r\"$\\mu=750.625$\" + \"\\n\" + r\"$\\sigma=5.318074$\" + \"\\n\"  +  \"min = 735\" + \"\\n\" + \"max = 758\" + \"\\n\" \\\n",
    "        + \"IQR - Interquartile\" +\"\\n\"+\"Range\" + \"\\n\" + \"IQR = (749, 754)\", bbox=dict(facecolor='none', edgecolor='C0'))\n",
    "ax.grid('True')\n",
    "ax.set(ylim = (730, 760))\n",
    "\n",
    "# ax.set_title('Boxplot')\n",
    "ax.set_ylabel(\"Atmosphere Pressure (mm Hg)\")\n",
    "plt.show()\n",
    "fig.savefig(\"boxplot2.png\");"
   ]
  },
  {
   "cell_type": "code",
   "execution_count": null,
   "id": "599ad316",
   "metadata": {},
   "outputs": [],
   "source": []
  }
 ],
 "metadata": {
  "kernelspec": {
   "display_name": "Python 3 (ipykernel)",
   "language": "python",
   "name": "python3"
  },
  "language_info": {
   "codemirror_mode": {
    "name": "ipython",
    "version": 3
   },
   "file_extension": ".py",
   "mimetype": "text/x-python",
   "name": "python",
   "nbconvert_exporter": "python",
   "pygments_lexer": "ipython3",
   "version": "3.9.7"
  }
 },
 "nbformat": 4,
 "nbformat_minor": 5
}
