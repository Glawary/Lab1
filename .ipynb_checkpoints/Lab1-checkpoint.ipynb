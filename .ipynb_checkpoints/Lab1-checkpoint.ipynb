{
 "cells": [
  {
   "cell_type": "code",
   "execution_count": 2,
   "id": "09794013",
   "metadata": {},
   "outputs": [],
   "source": [
    "import matplotlib.pyplot as plt\n",
    "import numpy as np\n",
    "import pandas as pd"
   ]
  },
  {
   "cell_type": "code",
   "execution_count": 3,
   "id": "23ec58b9",
   "metadata": {},
   "outputs": [],
   "source": [
    "x_dates = np.arange(np.datetime64('2022-08-01'), np.datetime64('2022-09-18'), dtype='datetime64[D]')"
   ]
  },
  {
   "cell_type": "code",
   "execution_count": 4,
   "id": "aaa0ad49",
   "metadata": {},
   "outputs": [],
   "source": [
    "dates = pd.read_excel(\"dates.xlsx\", sheet_name=\"Лист1\")"
   ]
  },
  {
   "cell_type": "code",
   "execution_count": 5,
   "id": "f9916d50",
   "metadata": {},
   "outputs": [
    {
     "data": {
      "text/html": [
       "<div>\n",
       "<style scoped>\n",
       "    .dataframe tbody tr th:only-of-type {\n",
       "        vertical-align: middle;\n",
       "    }\n",
       "\n",
       "    .dataframe tbody tr th {\n",
       "        vertical-align: top;\n",
       "    }\n",
       "\n",
       "    .dataframe thead th {\n",
       "        text-align: right;\n",
       "    }\n",
       "</style>\n",
       "<table border=\"1\" class=\"dataframe\">\n",
       "  <thead>\n",
       "    <tr style=\"text-align: right;\">\n",
       "      <th></th>\n",
       "      <th>Date</th>\n",
       "      <th>Pressure</th>\n",
       "    </tr>\n",
       "  </thead>\n",
       "  <tbody>\n",
       "    <tr>\n",
       "      <th>0</th>\n",
       "      <td>2022-08-01'</td>\n",
       "      <td>750</td>\n",
       "    </tr>\n",
       "    <tr>\n",
       "      <th>1</th>\n",
       "      <td>2022-08-02'</td>\n",
       "      <td>749</td>\n",
       "    </tr>\n",
       "    <tr>\n",
       "      <th>2</th>\n",
       "      <td>2022-08-03'</td>\n",
       "      <td>750</td>\n",
       "    </tr>\n",
       "    <tr>\n",
       "      <th>3</th>\n",
       "      <td>2022-08-04'</td>\n",
       "      <td>752</td>\n",
       "    </tr>\n",
       "    <tr>\n",
       "      <th>4</th>\n",
       "      <td>2022-08-05'</td>\n",
       "      <td>753</td>\n",
       "    </tr>\n",
       "    <tr>\n",
       "      <th>5</th>\n",
       "      <td>2022-08-06'</td>\n",
       "      <td>752</td>\n",
       "    </tr>\n",
       "    <tr>\n",
       "      <th>6</th>\n",
       "      <td>2022-08-07'</td>\n",
       "      <td>751</td>\n",
       "    </tr>\n",
       "    <tr>\n",
       "      <th>7</th>\n",
       "      <td>2022-08-08'</td>\n",
       "      <td>754</td>\n",
       "    </tr>\n",
       "    <tr>\n",
       "      <th>8</th>\n",
       "      <td>2022-08-09'</td>\n",
       "      <td>753</td>\n",
       "    </tr>\n",
       "    <tr>\n",
       "      <th>9</th>\n",
       "      <td>2022-08-10'</td>\n",
       "      <td>754</td>\n",
       "    </tr>\n",
       "    <tr>\n",
       "      <th>10</th>\n",
       "      <td>2022-08-11'</td>\n",
       "      <td>755</td>\n",
       "    </tr>\n",
       "    <tr>\n",
       "      <th>11</th>\n",
       "      <td>2022-08-12'</td>\n",
       "      <td>755</td>\n",
       "    </tr>\n",
       "    <tr>\n",
       "      <th>12</th>\n",
       "      <td>2022-08-13'</td>\n",
       "      <td>753</td>\n",
       "    </tr>\n",
       "    <tr>\n",
       "      <th>13</th>\n",
       "      <td>2022-08-14'</td>\n",
       "      <td>752</td>\n",
       "    </tr>\n",
       "    <tr>\n",
       "      <th>14</th>\n",
       "      <td>2022-08-15'</td>\n",
       "      <td>753</td>\n",
       "    </tr>\n",
       "    <tr>\n",
       "      <th>15</th>\n",
       "      <td>2022-08-16'</td>\n",
       "      <td>753</td>\n",
       "    </tr>\n",
       "    <tr>\n",
       "      <th>16</th>\n",
       "      <td>2022-08-17'</td>\n",
       "      <td>751</td>\n",
       "    </tr>\n",
       "    <tr>\n",
       "      <th>17</th>\n",
       "      <td>2022-08-18'</td>\n",
       "      <td>752</td>\n",
       "    </tr>\n",
       "    <tr>\n",
       "      <th>18</th>\n",
       "      <td>2022-08-19'</td>\n",
       "      <td>755</td>\n",
       "    </tr>\n",
       "    <tr>\n",
       "      <th>19</th>\n",
       "      <td>2022-08-20'</td>\n",
       "      <td>757</td>\n",
       "    </tr>\n",
       "    <tr>\n",
       "      <th>20</th>\n",
       "      <td>2022-08-21'</td>\n",
       "      <td>755</td>\n",
       "    </tr>\n",
       "    <tr>\n",
       "      <th>21</th>\n",
       "      <td>2022-08-22'</td>\n",
       "      <td>755</td>\n",
       "    </tr>\n",
       "    <tr>\n",
       "      <th>22</th>\n",
       "      <td>2022-08-23'</td>\n",
       "      <td>757</td>\n",
       "    </tr>\n",
       "    <tr>\n",
       "      <th>23</th>\n",
       "      <td>2022-08-24'</td>\n",
       "      <td>758</td>\n",
       "    </tr>\n",
       "    <tr>\n",
       "      <th>24</th>\n",
       "      <td>2022-08-25'</td>\n",
       "      <td>755</td>\n",
       "    </tr>\n",
       "    <tr>\n",
       "      <th>25</th>\n",
       "      <td>2022-08-26'</td>\n",
       "      <td>753</td>\n",
       "    </tr>\n",
       "    <tr>\n",
       "      <th>26</th>\n",
       "      <td>2022-08-27'</td>\n",
       "      <td>753</td>\n",
       "    </tr>\n",
       "    <tr>\n",
       "      <th>27</th>\n",
       "      <td>2022-08-28'</td>\n",
       "      <td>749</td>\n",
       "    </tr>\n",
       "    <tr>\n",
       "      <th>28</th>\n",
       "      <td>2022-08-29'</td>\n",
       "      <td>745</td>\n",
       "    </tr>\n",
       "    <tr>\n",
       "      <th>29</th>\n",
       "      <td>2022-08-30'</td>\n",
       "      <td>743</td>\n",
       "    </tr>\n",
       "    <tr>\n",
       "      <th>30</th>\n",
       "      <td>2022-08-31'</td>\n",
       "      <td>743</td>\n",
       "    </tr>\n",
       "    <tr>\n",
       "      <th>31</th>\n",
       "      <td>2022-09-01'</td>\n",
       "      <td>744</td>\n",
       "    </tr>\n",
       "    <tr>\n",
       "      <th>32</th>\n",
       "      <td>2022-09-02'</td>\n",
       "      <td>749</td>\n",
       "    </tr>\n",
       "    <tr>\n",
       "      <th>33</th>\n",
       "      <td>2022-09-03'</td>\n",
       "      <td>754</td>\n",
       "    </tr>\n",
       "    <tr>\n",
       "      <th>34</th>\n",
       "      <td>2022-09-04'</td>\n",
       "      <td>752</td>\n",
       "    </tr>\n",
       "    <tr>\n",
       "      <th>35</th>\n",
       "      <td>2022-09-05'</td>\n",
       "      <td>751</td>\n",
       "    </tr>\n",
       "    <tr>\n",
       "      <th>36</th>\n",
       "      <td>2022-09-06'</td>\n",
       "      <td>750</td>\n",
       "    </tr>\n",
       "    <tr>\n",
       "      <th>37</th>\n",
       "      <td>2022-09-07'</td>\n",
       "      <td>746</td>\n",
       "    </tr>\n",
       "    <tr>\n",
       "      <th>38</th>\n",
       "      <td>2022-09-08'</td>\n",
       "      <td>750</td>\n",
       "    </tr>\n",
       "    <tr>\n",
       "      <th>39</th>\n",
       "      <td>2022-09-09'</td>\n",
       "      <td>757</td>\n",
       "    </tr>\n",
       "    <tr>\n",
       "      <th>40</th>\n",
       "      <td>2022-09-10'</td>\n",
       "      <td>757</td>\n",
       "    </tr>\n",
       "    <tr>\n",
       "      <th>41</th>\n",
       "      <td>2022-09-11'</td>\n",
       "      <td>752</td>\n",
       "    </tr>\n",
       "    <tr>\n",
       "      <th>42</th>\n",
       "      <td>2022-09-12'</td>\n",
       "      <td>750</td>\n",
       "    </tr>\n",
       "    <tr>\n",
       "      <th>43</th>\n",
       "      <td>2022-09-13'</td>\n",
       "      <td>747</td>\n",
       "    </tr>\n",
       "    <tr>\n",
       "      <th>44</th>\n",
       "      <td>2022-09-14'</td>\n",
       "      <td>740</td>\n",
       "    </tr>\n",
       "    <tr>\n",
       "      <th>45</th>\n",
       "      <td>2022-09-15'</td>\n",
       "      <td>738</td>\n",
       "    </tr>\n",
       "    <tr>\n",
       "      <th>46</th>\n",
       "      <td>2022-09-16'</td>\n",
       "      <td>735</td>\n",
       "    </tr>\n",
       "    <tr>\n",
       "      <th>47</th>\n",
       "      <td>2022-09-17'</td>\n",
       "      <td>738</td>\n",
       "    </tr>\n",
       "  </tbody>\n",
       "</table>\n",
       "</div>"
      ],
      "text/plain": [
       "           Date  Pressure\n",
       "0   2022-08-01'       750\n",
       "1   2022-08-02'       749\n",
       "2   2022-08-03'       750\n",
       "3   2022-08-04'       752\n",
       "4   2022-08-05'       753\n",
       "5   2022-08-06'       752\n",
       "6   2022-08-07'       751\n",
       "7   2022-08-08'       754\n",
       "8   2022-08-09'       753\n",
       "9   2022-08-10'       754\n",
       "10  2022-08-11'       755\n",
       "11  2022-08-12'       755\n",
       "12  2022-08-13'       753\n",
       "13  2022-08-14'       752\n",
       "14  2022-08-15'       753\n",
       "15  2022-08-16'       753\n",
       "16  2022-08-17'       751\n",
       "17  2022-08-18'       752\n",
       "18  2022-08-19'       755\n",
       "19  2022-08-20'       757\n",
       "20  2022-08-21'       755\n",
       "21  2022-08-22'       755\n",
       "22  2022-08-23'       757\n",
       "23  2022-08-24'       758\n",
       "24  2022-08-25'       755\n",
       "25  2022-08-26'       753\n",
       "26  2022-08-27'       753\n",
       "27  2022-08-28'       749\n",
       "28  2022-08-29'       745\n",
       "29  2022-08-30'       743\n",
       "30  2022-08-31'       743\n",
       "31  2022-09-01'       744\n",
       "32  2022-09-02'       749\n",
       "33  2022-09-03'       754\n",
       "34  2022-09-04'       752\n",
       "35  2022-09-05'       751\n",
       "36  2022-09-06'       750\n",
       "37  2022-09-07'       746\n",
       "38  2022-09-08'       750\n",
       "39  2022-09-09'       757\n",
       "40  2022-09-10'       757\n",
       "41  2022-09-11'       752\n",
       "42  2022-09-12'       750\n",
       "43  2022-09-13'       747\n",
       "44  2022-09-14'       740\n",
       "45  2022-09-15'       738\n",
       "46  2022-09-16'       735\n",
       "47  2022-09-17'       738"
      ]
     },
     "execution_count": 5,
     "metadata": {},
     "output_type": "execute_result"
    }
   ],
   "source": [
    "dates"
   ]
  },
  {
   "cell_type": "code",
   "execution_count": 6,
   "id": "0eda502a",
   "metadata": {},
   "outputs": [],
   "source": [
    "y_atm_pr = dates['Pressure']\n",
    "x_index = dates['Date']"
   ]
  },
  {
   "cell_type": "code",
   "execution_count": 55,
   "id": "c8e9c562",
   "metadata": {},
   "outputs": [],
   "source": [
    "table_info = pd.Series(data = y_atm_pr, index = x_index)"
   ]
  },
  {
   "cell_type": "code",
   "execution_count": 56,
   "id": "7cfe58bf",
   "metadata": {},
   "outputs": [
    {
     "data": {
      "text/plain": [
       "Date\n",
       "2022-08-01'   NaN\n",
       "2022-08-02'   NaN\n",
       "2022-08-03'   NaN\n",
       "2022-08-04'   NaN\n",
       "2022-08-05'   NaN\n",
       "2022-08-06'   NaN\n",
       "2022-08-07'   NaN\n",
       "2022-08-08'   NaN\n",
       "2022-08-09'   NaN\n",
       "2022-08-10'   NaN\n",
       "2022-08-11'   NaN\n",
       "2022-08-12'   NaN\n",
       "2022-08-13'   NaN\n",
       "2022-08-14'   NaN\n",
       "2022-08-15'   NaN\n",
       "2022-08-16'   NaN\n",
       "2022-08-17'   NaN\n",
       "2022-08-18'   NaN\n",
       "2022-08-19'   NaN\n",
       "2022-08-20'   NaN\n",
       "2022-08-21'   NaN\n",
       "2022-08-22'   NaN\n",
       "2022-08-23'   NaN\n",
       "2022-08-24'   NaN\n",
       "2022-08-25'   NaN\n",
       "2022-08-26'   NaN\n",
       "2022-08-27'   NaN\n",
       "2022-08-28'   NaN\n",
       "2022-08-29'   NaN\n",
       "2022-08-30'   NaN\n",
       "2022-08-31'   NaN\n",
       "2022-09-01'   NaN\n",
       "2022-09-02'   NaN\n",
       "2022-09-03'   NaN\n",
       "2022-09-04'   NaN\n",
       "2022-09-05'   NaN\n",
       "2022-09-06'   NaN\n",
       "2022-09-07'   NaN\n",
       "2022-09-08'   NaN\n",
       "2022-09-09'   NaN\n",
       "2022-09-10'   NaN\n",
       "2022-09-11'   NaN\n",
       "2022-09-12'   NaN\n",
       "2022-09-13'   NaN\n",
       "2022-09-14'   NaN\n",
       "2022-09-15'   NaN\n",
       "2022-09-16'   NaN\n",
       "2022-09-17'   NaN\n",
       "Name: Pressure, dtype: float64"
      ]
     },
     "execution_count": 56,
     "metadata": {},
     "output_type": "execute_result"
    }
   ],
   "source": [
    "table_info"
   ]
  },
  {
   "cell_type": "code",
   "execution_count": 64,
   "id": "75077cb7",
   "metadata": {},
   "outputs": [
    {
     "data": {
      "text/html": [
       "<div>\n",
       "<style scoped>\n",
       "    .dataframe tbody tr th:only-of-type {\n",
       "        vertical-align: middle;\n",
       "    }\n",
       "\n",
       "    .dataframe tbody tr th {\n",
       "        vertical-align: top;\n",
       "    }\n",
       "\n",
       "    .dataframe thead th {\n",
       "        text-align: right;\n",
       "    }\n",
       "</style>\n",
       "<table border=\"1\" class=\"dataframe\">\n",
       "  <thead>\n",
       "    <tr style=\"text-align: right;\">\n",
       "      <th></th>\n",
       "      <th>Date</th>\n",
       "      <th>Pressure</th>\n",
       "    </tr>\n",
       "  </thead>\n",
       "  <tbody>\n",
       "    <tr>\n",
       "      <th>0</th>\n",
       "      <td>2022-08-01'</td>\n",
       "      <td>750</td>\n",
       "    </tr>\n",
       "    <tr>\n",
       "      <th>1</th>\n",
       "      <td>2022-08-02'</td>\n",
       "      <td>749</td>\n",
       "    </tr>\n",
       "    <tr>\n",
       "      <th>2</th>\n",
       "      <td>2022-08-03'</td>\n",
       "      <td>750</td>\n",
       "    </tr>\n",
       "    <tr>\n",
       "      <th>3</th>\n",
       "      <td>2022-08-04'</td>\n",
       "      <td>752</td>\n",
       "    </tr>\n",
       "    <tr>\n",
       "      <th>4</th>\n",
       "      <td>2022-08-05'</td>\n",
       "      <td>753</td>\n",
       "    </tr>\n",
       "    <tr>\n",
       "      <th>5</th>\n",
       "      <td>2022-08-06'</td>\n",
       "      <td>752</td>\n",
       "    </tr>\n",
       "    <tr>\n",
       "      <th>6</th>\n",
       "      <td>2022-08-07'</td>\n",
       "      <td>751</td>\n",
       "    </tr>\n",
       "    <tr>\n",
       "      <th>7</th>\n",
       "      <td>2022-08-08'</td>\n",
       "      <td>754</td>\n",
       "    </tr>\n",
       "    <tr>\n",
       "      <th>8</th>\n",
       "      <td>2022-08-09'</td>\n",
       "      <td>753</td>\n",
       "    </tr>\n",
       "    <tr>\n",
       "      <th>9</th>\n",
       "      <td>2022-08-10'</td>\n",
       "      <td>754</td>\n",
       "    </tr>\n",
       "    <tr>\n",
       "      <th>10</th>\n",
       "      <td>2022-08-11'</td>\n",
       "      <td>755</td>\n",
       "    </tr>\n",
       "    <tr>\n",
       "      <th>11</th>\n",
       "      <td>2022-08-12'</td>\n",
       "      <td>755</td>\n",
       "    </tr>\n",
       "    <tr>\n",
       "      <th>12</th>\n",
       "      <td>2022-08-13'</td>\n",
       "      <td>753</td>\n",
       "    </tr>\n",
       "    <tr>\n",
       "      <th>13</th>\n",
       "      <td>2022-08-14'</td>\n",
       "      <td>752</td>\n",
       "    </tr>\n",
       "    <tr>\n",
       "      <th>14</th>\n",
       "      <td>2022-08-15'</td>\n",
       "      <td>753</td>\n",
       "    </tr>\n",
       "    <tr>\n",
       "      <th>15</th>\n",
       "      <td>2022-08-16'</td>\n",
       "      <td>753</td>\n",
       "    </tr>\n",
       "    <tr>\n",
       "      <th>16</th>\n",
       "      <td>2022-08-17'</td>\n",
       "      <td>751</td>\n",
       "    </tr>\n",
       "    <tr>\n",
       "      <th>17</th>\n",
       "      <td>2022-08-18'</td>\n",
       "      <td>752</td>\n",
       "    </tr>\n",
       "    <tr>\n",
       "      <th>18</th>\n",
       "      <td>2022-08-19'</td>\n",
       "      <td>755</td>\n",
       "    </tr>\n",
       "    <tr>\n",
       "      <th>19</th>\n",
       "      <td>2022-08-20'</td>\n",
       "      <td>757</td>\n",
       "    </tr>\n",
       "    <tr>\n",
       "      <th>20</th>\n",
       "      <td>2022-08-21'</td>\n",
       "      <td>755</td>\n",
       "    </tr>\n",
       "    <tr>\n",
       "      <th>21</th>\n",
       "      <td>2022-08-22'</td>\n",
       "      <td>755</td>\n",
       "    </tr>\n",
       "    <tr>\n",
       "      <th>22</th>\n",
       "      <td>2022-08-23'</td>\n",
       "      <td>757</td>\n",
       "    </tr>\n",
       "    <tr>\n",
       "      <th>23</th>\n",
       "      <td>2022-08-24'</td>\n",
       "      <td>758</td>\n",
       "    </tr>\n",
       "    <tr>\n",
       "      <th>24</th>\n",
       "      <td>2022-08-25'</td>\n",
       "      <td>755</td>\n",
       "    </tr>\n",
       "    <tr>\n",
       "      <th>25</th>\n",
       "      <td>2022-08-26'</td>\n",
       "      <td>753</td>\n",
       "    </tr>\n",
       "    <tr>\n",
       "      <th>26</th>\n",
       "      <td>2022-08-27'</td>\n",
       "      <td>753</td>\n",
       "    </tr>\n",
       "    <tr>\n",
       "      <th>27</th>\n",
       "      <td>2022-08-28'</td>\n",
       "      <td>749</td>\n",
       "    </tr>\n",
       "    <tr>\n",
       "      <th>28</th>\n",
       "      <td>2022-08-29'</td>\n",
       "      <td>745</td>\n",
       "    </tr>\n",
       "    <tr>\n",
       "      <th>29</th>\n",
       "      <td>2022-08-30'</td>\n",
       "      <td>743</td>\n",
       "    </tr>\n",
       "    <tr>\n",
       "      <th>30</th>\n",
       "      <td>2022-08-31'</td>\n",
       "      <td>743</td>\n",
       "    </tr>\n",
       "    <tr>\n",
       "      <th>31</th>\n",
       "      <td>2022-09-01'</td>\n",
       "      <td>744</td>\n",
       "    </tr>\n",
       "    <tr>\n",
       "      <th>32</th>\n",
       "      <td>2022-09-02'</td>\n",
       "      <td>749</td>\n",
       "    </tr>\n",
       "    <tr>\n",
       "      <th>33</th>\n",
       "      <td>2022-09-03'</td>\n",
       "      <td>754</td>\n",
       "    </tr>\n",
       "    <tr>\n",
       "      <th>34</th>\n",
       "      <td>2022-09-04'</td>\n",
       "      <td>752</td>\n",
       "    </tr>\n",
       "    <tr>\n",
       "      <th>35</th>\n",
       "      <td>2022-09-05'</td>\n",
       "      <td>751</td>\n",
       "    </tr>\n",
       "    <tr>\n",
       "      <th>36</th>\n",
       "      <td>2022-09-06'</td>\n",
       "      <td>750</td>\n",
       "    </tr>\n",
       "    <tr>\n",
       "      <th>37</th>\n",
       "      <td>2022-09-07'</td>\n",
       "      <td>746</td>\n",
       "    </tr>\n",
       "    <tr>\n",
       "      <th>38</th>\n",
       "      <td>2022-09-08'</td>\n",
       "      <td>750</td>\n",
       "    </tr>\n",
       "    <tr>\n",
       "      <th>39</th>\n",
       "      <td>2022-09-09'</td>\n",
       "      <td>757</td>\n",
       "    </tr>\n",
       "    <tr>\n",
       "      <th>40</th>\n",
       "      <td>2022-09-10'</td>\n",
       "      <td>757</td>\n",
       "    </tr>\n",
       "    <tr>\n",
       "      <th>41</th>\n",
       "      <td>2022-09-11'</td>\n",
       "      <td>752</td>\n",
       "    </tr>\n",
       "    <tr>\n",
       "      <th>42</th>\n",
       "      <td>2022-09-12'</td>\n",
       "      <td>750</td>\n",
       "    </tr>\n",
       "    <tr>\n",
       "      <th>43</th>\n",
       "      <td>2022-09-13'</td>\n",
       "      <td>747</td>\n",
       "    </tr>\n",
       "    <tr>\n",
       "      <th>44</th>\n",
       "      <td>2022-09-14'</td>\n",
       "      <td>740</td>\n",
       "    </tr>\n",
       "    <tr>\n",
       "      <th>45</th>\n",
       "      <td>2022-09-15'</td>\n",
       "      <td>738</td>\n",
       "    </tr>\n",
       "    <tr>\n",
       "      <th>46</th>\n",
       "      <td>2022-09-16'</td>\n",
       "      <td>735</td>\n",
       "    </tr>\n",
       "    <tr>\n",
       "      <th>47</th>\n",
       "      <td>2022-09-17'</td>\n",
       "      <td>738</td>\n",
       "    </tr>\n",
       "  </tbody>\n",
       "</table>\n",
       "</div>"
      ],
      "text/plain": [
       "           Date  Pressure\n",
       "0   2022-08-01'       750\n",
       "1   2022-08-02'       749\n",
       "2   2022-08-03'       750\n",
       "3   2022-08-04'       752\n",
       "4   2022-08-05'       753\n",
       "5   2022-08-06'       752\n",
       "6   2022-08-07'       751\n",
       "7   2022-08-08'       754\n",
       "8   2022-08-09'       753\n",
       "9   2022-08-10'       754\n",
       "10  2022-08-11'       755\n",
       "11  2022-08-12'       755\n",
       "12  2022-08-13'       753\n",
       "13  2022-08-14'       752\n",
       "14  2022-08-15'       753\n",
       "15  2022-08-16'       753\n",
       "16  2022-08-17'       751\n",
       "17  2022-08-18'       752\n",
       "18  2022-08-19'       755\n",
       "19  2022-08-20'       757\n",
       "20  2022-08-21'       755\n",
       "21  2022-08-22'       755\n",
       "22  2022-08-23'       757\n",
       "23  2022-08-24'       758\n",
       "24  2022-08-25'       755\n",
       "25  2022-08-26'       753\n",
       "26  2022-08-27'       753\n",
       "27  2022-08-28'       749\n",
       "28  2022-08-29'       745\n",
       "29  2022-08-30'       743\n",
       "30  2022-08-31'       743\n",
       "31  2022-09-01'       744\n",
       "32  2022-09-02'       749\n",
       "33  2022-09-03'       754\n",
       "34  2022-09-04'       752\n",
       "35  2022-09-05'       751\n",
       "36  2022-09-06'       750\n",
       "37  2022-09-07'       746\n",
       "38  2022-09-08'       750\n",
       "39  2022-09-09'       757\n",
       "40  2022-09-10'       757\n",
       "41  2022-09-11'       752\n",
       "42  2022-09-12'       750\n",
       "43  2022-09-13'       747\n",
       "44  2022-09-14'       740\n",
       "45  2022-09-15'       738\n",
       "46  2022-09-16'       735\n",
       "47  2022-09-17'       738"
      ]
     },
     "execution_count": 64,
     "metadata": {},
     "output_type": "execute_result"
    }
   ],
   "source": [
    "dates"
   ]
  },
  {
   "cell_type": "code",
   "execution_count": 88,
   "id": "f4e531b0",
   "metadata": {},
   "outputs": [
    {
     "data": {
      "image/png": "[encoded data removed]",
      "text/plain": [
       "<Figure size 432x288 with 1 Axes>"
      ]
     },
     "metadata": {
      "needs_background": "light"
     },
     "output_type": "display_data"
    }
   ],
   "source": [
    "from datetime import datetime, timedelta\n",
    "import matplotlib as mpl\n",
    "fig, ax = plt.subplots()\n",
    "x = x_dates\n",
    "y = dates[\"Pressure\"]\n",
    "ax.plot(x, y)\n",
    "# ax.set(xlim=(0, 40), xticks=np.arange(0,41,5), ylim=(0, 100), yticks=np.arange(0,101, 10))\n",
    "ax.set(xticks=np.arange(np.datetime64('2022-08-01'), np.datetime64('2022-09-18'), np.timedelta64(3,'D')))\n",
    "cdf = mpl.dates.ConciseDateFormatter(ax.xaxis.get_major_locator())\n",
    "ax.xaxis.set_major_formatter(cdf);\n",
    "ax.set_xlabel('Date')\n",
    "ax.set_ylabel('Atmosphere Pressure')\n",
    "ax.set_title('Climate')\n",
    "ax.grid('True')\n",
    "plt.show();"
   ]
  },
  {
   "cell_type": "code",
   "execution_count": 27,
   "id": "75240dd5",
   "metadata": {},
   "outputs": [],
   "source": [
    "arr = y_atm_pr.copy()\n",
    "window_size = 3\n",
    "\n",
    "i = 0\n",
    "# Initialize an empty list to store moving averages\n",
    "moving_averages_3 = np.array([])\n",
    "  \n",
    "# Loop through the array to consider\n",
    "# every window of size 3\n",
    "while i < arr.size - window_size + 1:\n",
    "    \n",
    "    # Store elements from i to i+window_size\n",
    "    # in list to get the current window\n",
    "    window = arr[i : i + window_size]\n",
    "  \n",
    "    # Calculate the average of current window\n",
    "    window_average = np.round(np.sum(window) / window_size, 2)\n",
    "      \n",
    "    # Store the average of current\n",
    "    # window in moving average list\n",
    "    moving_averages_3 = np.append(moving_averages_3, [[window_average]])\n",
    "      \n",
    "    # Shift window to right by one position\n",
    "    i += 1"
   ]
  },
  {
   "cell_type": "code",
   "execution_count": 38,
   "id": "ba9e2384",
   "metadata": {},
   "outputs": [
    {
     "data": {
      "text/plain": [
       "array([749.67, 750.33, 751.67, 752.33, 752.  , 752.33, 752.67, 753.67,\n",
       "       754.  , 754.67, 754.33, 753.33, 752.67, 752.67, 752.33, 752.  ,\n",
       "       752.67, 754.67, 755.67, 755.67, 755.67, 756.67, 756.67, 755.33,\n",
       "       753.67, 751.67, 749.  , 745.67, 743.67, 743.33, 745.33, 749.  ,\n",
       "       751.67, 752.33, 751.  , 749.  , 748.67, 751.  , 754.67, 755.33,\n",
       "       753.  , 749.67, 745.67, 741.67, 737.67, 737.  ])"
      ]
     },
     "execution_count": 38,
     "metadata": {},
     "output_type": "execute_result"
    }
   ],
   "source": [
    "moving_averages_3"
   ]
  },
  {
   "cell_type": "code",
   "execution_count": 26,
   "id": "ff0875f6",
   "metadata": {},
   "outputs": [
    {
     "data": {
      "text/plain": [
       "array([737.])"
      ]
     },
     "execution_count": 26,
     "metadata": {},
     "output_type": "execute_result"
    }
   ],
   "source": [
    "np.append([], np.round(np.sum(window)/window_size, 2))"
   ]
  },
  {
   "cell_type": "code",
   "execution_count": 17,
   "id": "db078293",
   "metadata": {},
   "outputs": [
    {
     "data": {
      "text/plain": [
       "737.0"
      ]
     },
     "execution_count": 17,
     "metadata": {},
     "output_type": "execute_result"
    }
   ],
   "source": [
    "window_average"
   ]
  },
  {
   "cell_type": "code",
   "execution_count": 16,
   "id": "266a7563",
   "metadata": {},
   "outputs": [
    {
     "data": {
      "text/plain": [
       "array([1., 2., 3.])"
      ]
     },
     "execution_count": 16,
     "metadata": {},
     "output_type": "execute_result"
    }
   ],
   "source": [
    "np.append([], [1, 2, 3])"
   ]
  },
  {
   "cell_type": "code",
   "execution_count": 32,
   "id": "7082a4f4",
   "metadata": {},
   "outputs": [],
   "source": [
    "arr = y_atm_pr.copy()\n",
    "window_size = 4\n",
    "\n",
    "i = 0\n",
    "# Initialize an empty list to store moving averages\n",
    "moving_averages_4 = np.array([])\n",
    "  \n",
    "# Loop through the array to consider\n",
    "# every window of size 4\n",
    "while i < arr.size - window_size + 1:\n",
    "    \n",
    "    # Store elements from i to i+window_size\n",
    "    # in list to get the current window\n",
    "    window = arr[i : i + window_size]\n",
    "  \n",
    "    # Calculate the average of current window\n",
    "    window_average = np.round(np.sum(window) / window_size, 2)\n",
    "      \n",
    "    # Store the average of current\n",
    "    # window in moving average list\n",
    "    moving_averages_4 = np.append(moving_averages_4, [[window_average]])\n",
    "      \n",
    "    # Shift window to right by one position\n",
    "    i += 1"
   ]
  },
  {
   "cell_type": "code",
   "execution_count": 33,
   "id": "b2495efc",
   "metadata": {},
   "outputs": [],
   "source": [
    "arr = y_atm_pr.copy()\n",
    "window_size = 5\n",
    "\n",
    "i = 0\n",
    "# Initialize an empty list to store moving averages\n",
    "moving_averages_5 = np.array([])\n",
    "  \n",
    "# Loop through the array to consider\n",
    "# every window of size 5\n",
    "while i < arr.size - window_size + 1:\n",
    "    \n",
    "    # Store elements from i to i+window_size\n",
    "    # in list to get the current window\n",
    "    window = arr[i : i + window_size]\n",
    "  \n",
    "    # Calculate the average of current window\n",
    "    window_average = np.round(np.sum(window) / window_size, 2)\n",
    "      \n",
    "    # Store the average of current\n",
    "    # window in moving average list\n",
    "    moving_averages_5 = np.append(moving_averages_5, [[window_average]])\n",
    "      \n",
    "    # Shift window to right by one position\n",
    "    i += 1"
   ]
  },
  {
   "cell_type": "code",
   "execution_count": 34,
   "id": "7ec61b0a",
   "metadata": {},
   "outputs": [],
   "source": [
    "arr = y_atm_pr.copy()\n",
    "window_size = 6\n",
    "\n",
    "i = 0\n",
    "# Initialize an empty list to store moving averages\n",
    "moving_averages_6 = np.array([])\n",
    "  \n",
    "# Loop through the array to consider\n",
    "# every window of size 6\n",
    "while i < arr.size - window_size + 1:\n",
    "    \n",
    "    # Store elements from i to i+window_size\n",
    "    # in list to get the current window\n",
    "    window = arr[i : i + window_size]\n",
    "  \n",
    "    # Calculate the average of current window\n",
    "    window_average = np.round(np.sum(window) / window_size, 2)\n",
    "      \n",
    "    # Store the average of current\n",
    "    # window in moving average list\n",
    "    moving_averages_6 = np.append(moving_averages_6, [[window_average]])\n",
    "      \n",
    "    # Shift window to right by one position\n",
    "    i += 1"
   ]
  },
  {
   "cell_type": "code",
   "execution_count": 35,
   "id": "4c3925e4",
   "metadata": {},
   "outputs": [
    {
     "data": {
      "text/plain": [
       "array([750.25, 751.  , 751.75, 752.  , 752.5 , 752.5 , 753.  , 754.  ,\n",
       "       754.25, 754.25, 753.75, 753.25, 752.75, 752.25, 752.25, 752.75,\n",
       "       753.75, 754.75, 755.5 , 756.  , 756.25, 756.25, 755.75, 754.75,\n",
       "       752.5 , 750.  , 747.5 , 745.  , 743.75, 744.75, 747.5 , 749.75,\n",
       "       751.5 , 751.75, 749.75, 749.25, 750.75, 752.5 , 754.  , 754.  ,\n",
       "       751.5 , 747.25, 743.75, 740.  , 737.75])"
      ]
     },
     "execution_count": 35,
     "metadata": {},
     "output_type": "execute_result"
    }
   ],
   "source": [
    "moving_averages_4"
   ]
  },
  {
   "cell_type": "code",
   "execution_count": 36,
   "id": "72105bff",
   "metadata": {},
   "outputs": [
    {
     "data": {
      "text/plain": [
       "array([750.8, 751.2, 751.6, 752.4, 752.6, 752.8, 753.4, 754.2, 754. ,\n",
       "       753.8, 753.6, 753.2, 752.4, 752.2, 752.8, 753.6, 754. , 754.8,\n",
       "       755.8, 756.4, 756. , 755.6, 755.2, 753.6, 751. , 748.6, 746.6,\n",
       "       744.8, 744.8, 746.6, 748.4, 750. , 751.2, 750.6, 749.8, 750.8,\n",
       "       752. , 752.4, 753.2, 752.6, 749.2, 745.4, 742. , 739.6])"
      ]
     },
     "execution_count": 36,
     "metadata": {},
     "output_type": "execute_result"
    }
   ],
   "source": [
    "moving_averages_5"
   ]
  },
  {
   "cell_type": "code",
   "execution_count": 37,
   "id": "94507877",
   "metadata": {},
   "outputs": [
    {
     "data": {
      "text/plain": [
       "array([751.  , 751.17, 752.  , 752.5 , 752.83, 753.17, 753.67, 754.  ,\n",
       "       753.67, 753.67, 753.5 , 752.83, 752.33, 752.67, 753.5 , 753.83,\n",
       "       754.17, 755.17, 756.17, 756.17, 755.5 , 755.17, 754.17, 752.17,\n",
       "       749.67, 747.67, 746.17, 745.5 , 746.33, 747.5 , 748.83, 750.  ,\n",
       "       750.33, 750.5 , 751.  , 751.83, 752.  , 752.  , 752.17, 750.5 ,\n",
       "       747.33, 743.67, 741.33])"
      ]
     },
     "execution_count": 37,
     "metadata": {},
     "output_type": "execute_result"
    }
   ],
   "source": [
    "moving_averages_6"
   ]
  },
  {
   "cell_type": "code",
   "execution_count": 169,
   "id": "2d711931",
   "metadata": {},
   "outputs": [],
   "source": [
    "# err3 = 142.665\n",
    "# err4 = 91.304\n",
    "# err5 = 64.979\n",
    "# err6 = 50.026"
   ]
  },
  {
   "cell_type": "code",
   "execution_count": 39,
   "id": "76a63f39",
   "metadata": {},
   "outputs": [],
   "source": [
    "y_atm_pr_for_3 = y_atm_pr[1:1+moving_averages_3.size]"
   ]
  },
  {
   "cell_type": "code",
   "execution_count": 41,
   "id": "00608b79",
   "metadata": {},
   "outputs": [],
   "source": [
    "y_atm_pr_for_4 = y_atm_pr[1:1+moving_averages_4.size]"
   ]
  },
  {
   "cell_type": "code",
   "execution_count": 42,
   "id": "5f28fbd4",
   "metadata": {},
   "outputs": [],
   "source": [
    "y_atm_pr_for_5 = y_atm_pr[2:2+moving_averages_5.size]"
   ]
  },
  {
   "cell_type": "code",
   "execution_count": 43,
   "id": "8075c53d",
   "metadata": {},
   "outputs": [],
   "source": [
    "y_atm_pr_for_6 = y_atm_pr[2:2+moving_averages_6.size]"
   ]
  },
  {
   "cell_type": "code",
   "execution_count": 143,
   "id": "cce5b9f9",
   "metadata": {},
   "outputs": [
    {
     "data": {
      "text/plain": [
       "array([562875.0625, 564001.    , 565128.0625, 565504.    , 566256.25  ,\n",
       "       566256.25  , 567009.    , 568516.    , 568893.0625, 568893.0625,\n",
       "       568139.0625, 567385.5625, 566632.5625, 565880.0625, 565880.0625,\n",
       "       566632.5625, 568139.0625, 569647.5625, 570780.25  , 571536.    ,\n",
       "       571914.0625, 571914.0625, 571158.0625, 569647.5625, 566256.25  ,\n",
       "       562500.    , 558756.25  , 555025.    , 553164.0625, 554652.5625,\n",
       "       558756.25  , 562125.0625, 564752.25  , 565128.0625, 562125.0625,\n",
       "       561375.5625, 563625.5625, 566256.25  , 568516.    , 568516.    ,\n",
       "       564752.25  , 558382.5625, 553164.0625, 547600.    , 544275.0625])"
      ]
     },
     "execution_count": 143,
     "metadata": {},
     "output_type": "execute_result"
    }
   ],
   "source": [
    "np.square(moving_averages_4)"
   ]
  },
  {
   "cell_type": "code",
   "execution_count": 44,
   "id": "270688d1",
   "metadata": {},
   "outputs": [],
   "source": [
    "err3 = np.sqrt(np.sum(np.square(np.subtract(y_atm_pr_for_3, moving_averages_3)))/3)"
   ]
  },
  {
   "cell_type": "code",
   "execution_count": 45,
   "id": "61dce9b2",
   "metadata": {},
   "outputs": [
    {
     "data": {
      "text/plain": [
       "4.108543943215581"
      ]
     },
     "execution_count": 45,
     "metadata": {},
     "output_type": "execute_result"
    }
   ],
   "source": [
    "err3"
   ]
  },
  {
   "cell_type": "code",
   "execution_count": 46,
   "id": "2cfdad03",
   "metadata": {},
   "outputs": [],
   "source": [
    "err4 = np.sqrt(np.sum(np.square(np.subtract(y_atm_pr_for_4, moving_averages_4)))/4)"
   ]
  },
  {
   "cell_type": "code",
   "execution_count": 47,
   "id": "ee939fab",
   "metadata": {},
   "outputs": [],
   "source": [
    "err5 = np.sqrt(np.sum(np.square(np.subtract(y_atm_pr_for_5, moving_averages_5)))/5)"
   ]
  },
  {
   "cell_type": "code",
   "execution_count": 48,
   "id": "46e5373b",
   "metadata": {},
   "outputs": [],
   "source": [
    "err6 = np.sqrt(np.sum(np.square(np.subtract(y_atm_pr_for_6, moving_averages_6)))/6)"
   ]
  },
  {
   "cell_type": "code",
   "execution_count": 49,
   "id": "01adf5c3",
   "metadata": {},
   "outputs": [],
   "source": [
    "err = pd.Series(data = np.array([err3, err4, err5, err6]), index = [\"err3\", \"err4\", \"err5\", \"err6\"])"
   ]
  },
  {
   "cell_type": "code",
   "execution_count": 50,
   "id": "ef2a0e28",
   "metadata": {},
   "outputs": [
    {
     "data": {
      "text/plain": [
       "err3    4.108544\n",
       "err4    5.709094\n",
       "err5    5.369544\n",
       "err6    5.956918\n",
       "dtype: float64"
      ]
     },
     "execution_count": 50,
     "metadata": {},
     "output_type": "execute_result"
    }
   ],
   "source": [
    "err"
   ]
  },
  {
   "cell_type": "code",
   "execution_count": 172,
   "id": "4c5e7cba",
   "metadata": {},
   "outputs": [
    {
     "data": {
      "text/plain": [
       "741.33"
      ]
     },
     "execution_count": 172,
     "metadata": {},
     "output_type": "execute_result"
    }
   ],
   "source": [
    "min(moving_averages_6)"
   ]
  },
  {
   "cell_type": "code",
   "execution_count": 173,
   "id": "237915c9",
   "metadata": {},
   "outputs": [
    {
     "data": {
      "text/plain": [
       "0     750\n",
       "1     749\n",
       "2     750\n",
       "3     752\n",
       "4     753\n",
       "5     752\n",
       "6     751\n",
       "7     754\n",
       "8     753\n",
       "9     754\n",
       "10    755\n",
       "11    755\n",
       "12    753\n",
       "13    752\n",
       "14    753\n",
       "15    753\n",
       "16    751\n",
       "17    752\n",
       "18    755\n",
       "19    757\n",
       "20    755\n",
       "21    755\n",
       "22    757\n",
       "23    758\n",
       "24    755\n",
       "25    753\n",
       "26    753\n",
       "27    749\n",
       "28    745\n",
       "29    743\n",
       "30    743\n",
       "31    744\n",
       "32    749\n",
       "33    754\n",
       "34    752\n",
       "35    751\n",
       "36    750\n",
       "37    746\n",
       "38    750\n",
       "39    757\n",
       "40    757\n",
       "41    752\n",
       "42    750\n",
       "43    747\n",
       "44    740\n",
       "45    738\n",
       "46    735\n",
       "47    738\n",
       "Name: Pressure, dtype: int64"
      ]
     },
     "execution_count": 173,
     "metadata": {},
     "output_type": "execute_result"
    }
   ],
   "source": [
    "y_atm_pr"
   ]
  },
  {
   "cell_type": "code",
   "execution_count": 114,
   "id": "2fee36bb",
   "metadata": {},
   "outputs": [
    {
     "data": {
      "text/plain": [
       "array([735, 738, 738, 740, 743, 743, 744, 745, 746, 747, 749, 749, 749,\n",
       "       750, 750, 750, 750, 750, 751, 751, 751, 752, 752, 752, 752, 752,\n",
       "       752, 753, 753, 753, 753, 753, 753, 753, 754, 754, 754, 755, 755,\n",
       "       755, 755, 755, 755, 757, 757, 757, 757, 758], dtype=int64)"
      ]
     },
     "execution_count": 114,
     "metadata": {},
     "output_type": "execute_result"
    }
   ],
   "source": [
    "np.sort(y_atm_pr)"
   ]
  },
  {
   "cell_type": "code",
   "execution_count": 115,
   "id": "b2f6e2a2",
   "metadata": {},
   "outputs": [
    {
     "data": {
      "text/plain": [
       "48"
      ]
     },
     "execution_count": 115,
     "metadata": {},
     "output_type": "execute_result"
    }
   ],
   "source": [
    "y_atm_pr.size"
   ]
  },
  {
   "cell_type": "code",
   "execution_count": 174,
   "id": "ead79109",
   "metadata": {},
   "outputs": [
    {
     "data": {
      "text/plain": [
       "43"
      ]
     },
     "execution_count": 174,
     "metadata": {},
     "output_type": "execute_result"
    }
   ],
   "source": [
    "len(moving_averages_6)"
   ]
  },
  {
   "cell_type": "code",
   "execution_count": 162,
   "id": "8c48fbca",
   "metadata": {},
   "outputs": [],
   "source": [
    "# moving_averages_6.append(616.3)"
   ]
  },
  {
   "cell_type": "code",
   "execution_count": 175,
   "id": "e15862c9",
   "metadata": {},
   "outputs": [],
   "source": [
    "dates_with_the_best_err = pd.DataFrame({\"Date\": x_dates[2:45], \"Pressure\": moving_averages_6})"
   ]
  },
  {
   "cell_type": "code",
   "execution_count": 176,
   "id": "72d63a4e",
   "metadata": {},
   "outputs": [
    {
     "data": {
      "text/html": [
       "<div>\n",
       "<style scoped>\n",
       "    .dataframe tbody tr th:only-of-type {\n",
       "        vertical-align: middle;\n",
       "    }\n",
       "\n",
       "    .dataframe tbody tr th {\n",
       "        vertical-align: top;\n",
       "    }\n",
       "\n",
       "    .dataframe thead th {\n",
       "        text-align: right;\n",
       "    }\n",
       "</style>\n",
       "<table border=\"1\" class=\"dataframe\">\n",
       "  <thead>\n",
       "    <tr style=\"text-align: right;\">\n",
       "      <th></th>\n",
       "      <th>Date</th>\n",
       "      <th>Pressure</th>\n",
       "    </tr>\n",
       "  </thead>\n",
       "  <tbody>\n",
       "    <tr>\n",
       "      <th>0</th>\n",
       "      <td>2022-08-03</td>\n",
       "      <td>751.00</td>\n",
       "    </tr>\n",
       "    <tr>\n",
       "      <th>1</th>\n",
       "      <td>2022-08-04</td>\n",
       "      <td>751.17</td>\n",
       "    </tr>\n",
       "    <tr>\n",
       "      <th>2</th>\n",
       "      <td>2022-08-05</td>\n",
       "      <td>752.00</td>\n",
       "    </tr>\n",
       "    <tr>\n",
       "      <th>3</th>\n",
       "      <td>2022-08-06</td>\n",
       "      <td>752.50</td>\n",
       "    </tr>\n",
       "    <tr>\n",
       "      <th>4</th>\n",
       "      <td>2022-08-07</td>\n",
       "      <td>752.83</td>\n",
       "    </tr>\n",
       "    <tr>\n",
       "      <th>5</th>\n",
       "      <td>2022-08-08</td>\n",
       "      <td>753.17</td>\n",
       "    </tr>\n",
       "    <tr>\n",
       "      <th>6</th>\n",
       "      <td>2022-08-09</td>\n",
       "      <td>753.67</td>\n",
       "    </tr>\n",
       "    <tr>\n",
       "      <th>7</th>\n",
       "      <td>2022-08-10</td>\n",
       "      <td>754.00</td>\n",
       "    </tr>\n",
       "    <tr>\n",
       "      <th>8</th>\n",
       "      <td>2022-08-11</td>\n",
       "      <td>753.67</td>\n",
       "    </tr>\n",
       "    <tr>\n",
       "      <th>9</th>\n",
       "      <td>2022-08-12</td>\n",
       "      <td>753.67</td>\n",
       "    </tr>\n",
       "    <tr>\n",
       "      <th>10</th>\n",
       "      <td>2022-08-13</td>\n",
       "      <td>753.50</td>\n",
       "    </tr>\n",
       "    <tr>\n",
       "      <th>11</th>\n",
       "      <td>2022-08-14</td>\n",
       "      <td>752.83</td>\n",
       "    </tr>\n",
       "    <tr>\n",
       "      <th>12</th>\n",
       "      <td>2022-08-15</td>\n",
       "      <td>752.33</td>\n",
       "    </tr>\n",
       "    <tr>\n",
       "      <th>13</th>\n",
       "      <td>2022-08-16</td>\n",
       "      <td>752.67</td>\n",
       "    </tr>\n",
       "    <tr>\n",
       "      <th>14</th>\n",
       "      <td>2022-08-17</td>\n",
       "      <td>753.50</td>\n",
       "    </tr>\n",
       "    <tr>\n",
       "      <th>15</th>\n",
       "      <td>2022-08-18</td>\n",
       "      <td>753.83</td>\n",
       "    </tr>\n",
       "    <tr>\n",
       "      <th>16</th>\n",
       "      <td>2022-08-19</td>\n",
       "      <td>754.17</td>\n",
       "    </tr>\n",
       "    <tr>\n",
       "      <th>17</th>\n",
       "      <td>2022-08-20</td>\n",
       "      <td>755.17</td>\n",
       "    </tr>\n",
       "    <tr>\n",
       "      <th>18</th>\n",
       "      <td>2022-08-21</td>\n",
       "      <td>756.17</td>\n",
       "    </tr>\n",
       "    <tr>\n",
       "      <th>19</th>\n",
       "      <td>2022-08-22</td>\n",
       "      <td>756.17</td>\n",
       "    </tr>\n",
       "    <tr>\n",
       "      <th>20</th>\n",
       "      <td>2022-08-23</td>\n",
       "      <td>755.50</td>\n",
       "    </tr>\n",
       "    <tr>\n",
       "      <th>21</th>\n",
       "      <td>2022-08-24</td>\n",
       "      <td>755.17</td>\n",
       "    </tr>\n",
       "    <tr>\n",
       "      <th>22</th>\n",
       "      <td>2022-08-25</td>\n",
       "      <td>754.17</td>\n",
       "    </tr>\n",
       "    <tr>\n",
       "      <th>23</th>\n",
       "      <td>2022-08-26</td>\n",
       "      <td>752.17</td>\n",
       "    </tr>\n",
       "    <tr>\n",
       "      <th>24</th>\n",
       "      <td>2022-08-27</td>\n",
       "      <td>749.67</td>\n",
       "    </tr>\n",
       "    <tr>\n",
       "      <th>25</th>\n",
       "      <td>2022-08-28</td>\n",
       "      <td>747.67</td>\n",
       "    </tr>\n",
       "    <tr>\n",
       "      <th>26</th>\n",
       "      <td>2022-08-29</td>\n",
       "      <td>746.17</td>\n",
       "    </tr>\n",
       "    <tr>\n",
       "      <th>27</th>\n",
       "      <td>2022-08-30</td>\n",
       "      <td>745.50</td>\n",
       "    </tr>\n",
       "    <tr>\n",
       "      <th>28</th>\n",
       "      <td>2022-08-31</td>\n",
       "      <td>746.33</td>\n",
       "    </tr>\n",
       "    <tr>\n",
       "      <th>29</th>\n",
       "      <td>2022-09-01</td>\n",
       "      <td>747.50</td>\n",
       "    </tr>\n",
       "    <tr>\n",
       "      <th>30</th>\n",
       "      <td>2022-09-02</td>\n",
       "      <td>748.83</td>\n",
       "    </tr>\n",
       "    <tr>\n",
       "      <th>31</th>\n",
       "      <td>2022-09-03</td>\n",
       "      <td>750.00</td>\n",
       "    </tr>\n",
       "    <tr>\n",
       "      <th>32</th>\n",
       "      <td>2022-09-04</td>\n",
       "      <td>750.33</td>\n",
       "    </tr>\n",
       "    <tr>\n",
       "      <th>33</th>\n",
       "      <td>2022-09-05</td>\n",
       "      <td>750.50</td>\n",
       "    </tr>\n",
       "    <tr>\n",
       "      <th>34</th>\n",
       "      <td>2022-09-06</td>\n",
       "      <td>751.00</td>\n",
       "    </tr>\n",
       "    <tr>\n",
       "      <th>35</th>\n",
       "      <td>2022-09-07</td>\n",
       "      <td>751.83</td>\n",
       "    </tr>\n",
       "    <tr>\n",
       "      <th>36</th>\n",
       "      <td>2022-09-08</td>\n",
       "      <td>752.00</td>\n",
       "    </tr>\n",
       "    <tr>\n",
       "      <th>37</th>\n",
       "      <td>2022-09-09</td>\n",
       "      <td>752.00</td>\n",
       "    </tr>\n",
       "    <tr>\n",
       "      <th>38</th>\n",
       "      <td>2022-09-10</td>\n",
       "      <td>752.17</td>\n",
       "    </tr>\n",
       "    <tr>\n",
       "      <th>39</th>\n",
       "      <td>2022-09-11</td>\n",
       "      <td>750.50</td>\n",
       "    </tr>\n",
       "    <tr>\n",
       "      <th>40</th>\n",
       "      <td>2022-09-12</td>\n",
       "      <td>747.33</td>\n",
       "    </tr>\n",
       "    <tr>\n",
       "      <th>41</th>\n",
       "      <td>2022-09-13</td>\n",
       "      <td>743.67</td>\n",
       "    </tr>\n",
       "    <tr>\n",
       "      <th>42</th>\n",
       "      <td>2022-09-14</td>\n",
       "      <td>741.33</td>\n",
       "    </tr>\n",
       "  </tbody>\n",
       "</table>\n",
       "</div>"
      ],
      "text/plain": [
       "         Date  Pressure\n",
       "0  2022-08-03    751.00\n",
       "1  2022-08-04    751.17\n",
       "2  2022-08-05    752.00\n",
       "3  2022-08-06    752.50\n",
       "4  2022-08-07    752.83\n",
       "5  2022-08-08    753.17\n",
       "6  2022-08-09    753.67\n",
       "7  2022-08-10    754.00\n",
       "8  2022-08-11    753.67\n",
       "9  2022-08-12    753.67\n",
       "10 2022-08-13    753.50\n",
       "11 2022-08-14    752.83\n",
       "12 2022-08-15    752.33\n",
       "13 2022-08-16    752.67\n",
       "14 2022-08-17    753.50\n",
       "15 2022-08-18    753.83\n",
       "16 2022-08-19    754.17\n",
       "17 2022-08-20    755.17\n",
       "18 2022-08-21    756.17\n",
       "19 2022-08-22    756.17\n",
       "20 2022-08-23    755.50\n",
       "21 2022-08-24    755.17\n",
       "22 2022-08-25    754.17\n",
       "23 2022-08-26    752.17\n",
       "24 2022-08-27    749.67\n",
       "25 2022-08-28    747.67\n",
       "26 2022-08-29    746.17\n",
       "27 2022-08-30    745.50\n",
       "28 2022-08-31    746.33\n",
       "29 2022-09-01    747.50\n",
       "30 2022-09-02    748.83\n",
       "31 2022-09-03    750.00\n",
       "32 2022-09-04    750.33\n",
       "33 2022-09-05    750.50\n",
       "34 2022-09-06    751.00\n",
       "35 2022-09-07    751.83\n",
       "36 2022-09-08    752.00\n",
       "37 2022-09-09    752.00\n",
       "38 2022-09-10    752.17\n",
       "39 2022-09-11    750.50\n",
       "40 2022-09-12    747.33\n",
       "41 2022-09-13    743.67\n",
       "42 2022-09-14    741.33"
      ]
     },
     "execution_count": 176,
     "metadata": {},
     "output_type": "execute_result"
    }
   ],
   "source": [
    "dates_with_the_best_err"
   ]
  },
  {
   "cell_type": "code",
   "execution_count": 178,
   "id": "4e234ecc",
   "metadata": {},
   "outputs": [
    {
     "data": {
      "image/png": "[encoded data removed]",
      "text/plain": [
       "<Figure size 432x288 with 1 Axes>"
      ]
     },
     "metadata": {
      "needs_background": "light"
     },
     "output_type": "display_data"
    }
   ],
   "source": [
    "from datetime import datetime, timedelta\n",
    "import matplotlib as mpl\n",
    "fig, ax = plt.subplots()\n",
    "x = x_dates\n",
    "y = dates[\"Pressure\"]\n",
    "ax.plot(x, y, label = \"line\")\n",
    "# ax.set(xlim=(0, 40), xticks=np.arange(0,41,5), ylim=(0, 100), yticks=np.arange(0,101, 10))\n",
    "x_new = x_dates[2:45]\n",
    "y_new = dates_with_the_best_err[\"Pressure\"]\n",
    "ax.plot(x_new, y_new, label = \"line with the best err\")\n",
    "ax.set(xticks=np.arange(np.datetime64('2022-08-01'), np.datetime64('2022-09-18'), np.timedelta64(3,'D')))\n",
    "cdf = mpl.dates.ConciseDateFormatter(ax.xaxis.get_major_locator())\n",
    "ax.xaxis.set_major_formatter(cdf);\n",
    "ax.set_xlabel('Date')\n",
    "ax.set_ylabel('Atmosphere Pressure')\n",
    "ax.set_title('Climate')\n",
    "ax.grid('True')\n",
    "ax.legend()\n",
    "plt.show();"
   ]
  },
  {
   "cell_type": "code",
   "execution_count": 55,
   "id": "5fb048d3",
   "metadata": {},
   "outputs": [
    {
     "data": {
      "image/png": "[encoded data removed]",
      "text/plain": [
       "<Figure size 432x288 with 1 Axes>"
      ]
     },
     "metadata": {
      "needs_background": "light"
     },
     "output_type": "display_data"
    }
   ],
   "source": [
    "from datetime import datetime, timedelta\n",
    "import matplotlib as mpl\n",
    "fig, ax = plt.subplots()\n",
    "x = x_dates\n",
    "y = dates[\"Pressure\"]\n",
    "ax.plot(x, y, label = \"line\")\n",
    "# ax.set(xlim=(0, 40), xticks=np.arange(0,41,5), ylim=(0, 100), yticks=np.arange(0,101, 10))\n",
    "x_new = x_dates[1:1+moving_averages_3.size]\n",
    "# y_new = dates_with_the_best_err[\"Pressure\"]\n",
    "y_new = moving_averages_3\n",
    "ax.plot(x_new, y_new, label = \"line with the best err\")\n",
    "ax.set(xticks=np.arange(np.datetime64('2022-08-01'), np.datetime64('2022-09-18'), np.timedelta64(3,'D')))\n",
    "cdf = mpl.dates.ConciseDateFormatter(ax.xaxis.get_major_locator())\n",
    "ax.xaxis.set_major_formatter(cdf);\n",
    "ax.set_xlabel('Date')\n",
    "ax.set_ylabel('Atmosphere Pressure')\n",
    "ax.set_title('Climate')\n",
    "ax.grid('True')\n",
    "ax.legend()\n",
    "plt.show();"
   ]
  },
  {
   "cell_type": "code",
   "execution_count": 53,
   "id": "f814685f",
   "metadata": {},
   "outputs": [
    {
     "data": {
      "text/plain": [
       "46"
      ]
     },
     "execution_count": 53,
     "metadata": {},
     "output_type": "execute_result"
    }
   ],
   "source": [
    "y_atm_pr_for_3.size"
   ]
  },
  {
   "cell_type": "code",
   "execution_count": 58,
   "id": "ff2d2f5d",
   "metadata": {},
   "outputs": [],
   "source": [
    "mu = np.mean(y_atm_pr)\n",
    "sigma = np.std(y_atm_pr)"
   ]
  },
  {
   "cell_type": "code",
   "execution_count": 59,
   "id": "9aeb1fe4",
   "metadata": {},
   "outputs": [],
   "source": [
    "h = (np.max(np.sort(y_atm_pr))-np.min(np.sort(y_atm_pr)))/(1+3.322*np.log10(48))"
   ]
  },
  {
   "cell_type": "code",
   "execution_count": 79,
   "id": "db461780",
   "metadata": {},
   "outputs": [],
   "source": [
    "y_atm_pr_with_h = np.arange(np.min(y_atm_pr), np.max(y_atm_pr)+1, h)"
   ]
  },
  {
   "cell_type": "code",
   "execution_count": 80,
   "id": "774e8660",
   "metadata": {},
   "outputs": [
    {
     "data": {
      "text/plain": [
       "array([735.        , 738.49274241, 741.98548481, 745.47822722,\n",
       "       748.97096962, 752.46371203, 755.95645443])"
      ]
     },
     "execution_count": 80,
     "metadata": {},
     "output_type": "execute_result"
    }
   ],
   "source": [
    "y_atm_pr_with_h"
   ]
  },
  {
   "cell_type": "code",
   "execution_count": null,
   "id": "0bcf17dd",
   "metadata": {},
   "outputs": [],
   "source": []
  },
  {
   "cell_type": "code",
   "execution_count": 65,
   "id": "29ad45df",
   "metadata": {},
   "outputs": [],
   "source": [
    "dates = pd.read_excel(\"dates.xlsx\", sheet_name=\"Лист1\")\n",
    "y_atm_pr = dates['Pressure']"
   ]
  },
  {
   "cell_type": "code",
   "execution_count": 72,
   "id": "78d8d60f",
   "metadata": {},
   "outputs": [],
   "source": [
    "min_y = np.min(y_atm_pr)\n",
    "max_y_1 = np.max(y_atm_pr)\n",
    "max_y_2 = np.max(y_atm_pr_with_h)"
   ]
  },
  {
   "cell_type": "code",
   "execution_count": 121,
   "id": "4a0ffc4a",
   "metadata": {},
   "outputs": [
    {
     "data": {
      "image/png": "[encoded data removed]",
      "text/plain": [
       "<Figure size 432x288 with 1 Axes>"
      ]
     },
     "metadata": {
      "needs_background": "light"
     },
     "output_type": "display_data"
    }
   ],
   "source": [
    "fig, ax = plt.subplots()\n",
    "# dates = pd.read_excel(\"dates.xlsx\", sheet_name=\"Лист1\")\n",
    "# y_atm_pr = dates['Pressure']\n",
    "count, bins, ignored = ax.hist(np.sort(y_atm_pr), bins = np.arange(min_y, max_y_2+2*h, h), density=True, label='hist')\n",
    "# ax.plot(bins, 1/(sigma * np.sqrt(2 *np.pi)) *\n",
    "#         np.exp( - (bins - mu)**2/ (2 * sigma**2) ),\n",
    "#         linewidth=2, color='r', label='line')\n",
    "# [h for i in range(y_atm_pr_with_h.size-1)]\n",
    "# ax.set(xlim=(np.min(data2),np.max(data2)), xticks=np.arange(np.min(data2), np.max(data2_with_h), h))\n",
    "import matplotlib.pyplot as plt\n",
    "import numpy as np\n",
    "import scipy.stats as stats\n",
    "import math\n",
    "\n",
    "mu = np.mean(y_atm_pr)\n",
    "sigma = np.std(y_atm_pr)\n",
    "# sigma = math.sqrt(variance)\n",
    "x = np.linspace(mu - 3*sigma, mu + 3*sigma, 100)\n",
    "ax.plot(x, stats.norm.pdf(x, mu, sigma), label='line')\n",
    "dates = pd.read_excel(\"dates.xlsx\", sheet_name=\"Лист1\")\n",
    "y_atm_pr = dates['Pressure']\n",
    "ax.set(xlim=(min_y, max_y_2+h),xticks=np.arange(min_y, max_y_2+2*h, h))\n",
    "# ax.axis([15, 108, 0, 0.033])\n",
    "# ax.annotate('local max', xy=(np.mean(data2), 200), xytext=(np.mean(data2), 100),\n",
    "#             arrowprops=dict(facecolor='black', shrink=0.05))\n",
    "# ax.set_xlim(np.min(data2), np.max(data2))\n",
    "# ax.set(xlim=(np.min(data2),np.max(data2)), xticks=np.linspace(np.min(data2), np.max(data2_with_h), data2_with_h.size))\n",
    "ax.set_xlabel('Pressure')\n",
    "ax.set_ylabel('Posibility')\n",
    "ax.set_title('Histogram')\n",
    "ax.legend()\n",
    "plt.show();\n"
   ]
  },
  {
   "cell_type": "code",
   "execution_count": 85,
   "id": "da174809",
   "metadata": {},
   "outputs": [
    {
     "data": {
      "text/plain": [
       "758"
      ]
     },
     "execution_count": 85,
     "metadata": {},
     "output_type": "execute_result"
    }
   ],
   "source": [
    "np.max(y_atm_pr)"
   ]
  },
  {
   "cell_type": "code",
   "execution_count": 223,
   "id": "29e5a88c",
   "metadata": {},
   "outputs": [
    {
     "data": {
      "image/png": "[encoded data removed]",
      "text/plain": [
       "<Figure size 432x288 with 1 Axes>"
      ]
     },
     "metadata": {
      "needs_background": "light"
     },
     "output_type": "display_data"
    }
   ],
   "source": [
    "import numpy as np\n",
    "import matplotlib.pyplot as plt\n",
    "\n",
    "\n",
    "fig1, ax = plt.subplots()\n",
    "ax.boxplot(y_atm_pr,patch_artist=True,  medianprops={\"color\": \"white\", \"linewidth\": 0.5},\n",
    "                boxprops={\"facecolor\": \"C0\", \"edgecolor\": \"white\",\n",
    "                          \"linewidth\": 0.5},\n",
    "                whiskerprops={\"color\": \"C0\", \"linewidth\": 1.5},\n",
    "                capprops={\"color\": \"C0\", \"linewidth\": 1.5})\n",
    "ax.text(1.09, 735.5, r\"$\\mu=750.625$\" + \"\\n\" + r\"$\\sigma=5.318074$\" + \"\\n\"  +  \"min = 735.0\" + \"\\n\" + \"max = 758.0\" + \"\\n\" \\\n",
    "        + \"IQR - Interquartile Range\" + \"\\n\" + \"IQR = (749.0, 754.0)\", bbox=dict(facecolor='none', edgecolor='C0'))\n",
    "ax.grid('True')\n",
    "ax.set_title('Boxplot')\n",
    "ax.set_ylabel(\"Pressure\")\n",
    "plt.show();"
   ]
  },
  {
   "cell_type": "code",
   "execution_count": 217,
   "id": "aadd0d1f",
   "metadata": {},
   "outputs": [
    {
     "data": {
      "text/plain": [
       "750.606448567675"
      ]
     },
     "execution_count": 217,
     "metadata": {},
     "output_type": "execute_result"
    }
   ],
   "source": [
    "import numpy as np\n",
    "\n",
    "#define custom function\n",
    "def g_mean(x):\n",
    "    a = np.log(x)\n",
    "    return np.exp(a.mean())\n",
    "\n",
    "#calculate geometric mean \n",
    "g_mean(y_atm_pr)"
   ]
  },
  {
   "cell_type": "code",
   "execution_count": 122,
   "id": "04d8cd97",
   "metadata": {},
   "outputs": [],
   "source": [
    "from scipy.stats import skew\n",
    "skew = skew(y_atm_pr, axis=0, bias=True)\n",
    "from scipy.stats import kurtosis\n",
    "kurtosis = kurtosis(y_atm_pr, axis=0, bias=True)"
   ]
  },
  {
   "cell_type": "code",
   "execution_count": 123,
   "id": "3f002cb3",
   "metadata": {},
   "outputs": [
    {
     "data": {
      "text/plain": [
       "(-1.1994324968674475, 0.9634417713821652)"
      ]
     },
     "execution_count": 123,
     "metadata": {},
     "output_type": "execute_result"
    }
   ],
   "source": [
    "skew, kurtosis"
   ]
  },
  {
   "cell_type": "code",
   "execution_count": 221,
   "id": "da050aeb",
   "metadata": {},
   "outputs": [],
   "source": [
    "min = np.min(y_atm_pr)\n",
    "max = np.max(y_atm_pr)"
   ]
  },
  {
   "cell_type": "code",
   "execution_count": 222,
   "id": "7c80a708",
   "metadata": {},
   "outputs": [
    {
     "data": {
      "text/html": [
       "<div>\n",
       "<style scoped>\n",
       "    .dataframe tbody tr th:only-of-type {\n",
       "        vertical-align: middle;\n",
       "    }\n",
       "\n",
       "    .dataframe tbody tr th {\n",
       "        vertical-align: top;\n",
       "    }\n",
       "\n",
       "    .dataframe thead th {\n",
       "        text-align: right;\n",
       "    }\n",
       "</style>\n",
       "<table border=\"1\" class=\"dataframe\">\n",
       "  <thead>\n",
       "    <tr style=\"text-align: right;\">\n",
       "      <th></th>\n",
       "      <th>Pressure</th>\n",
       "    </tr>\n",
       "  </thead>\n",
       "  <tbody>\n",
       "    <tr>\n",
       "      <th>count</th>\n",
       "      <td>48.000000</td>\n",
       "    </tr>\n",
       "    <tr>\n",
       "      <th>mean</th>\n",
       "      <td>750.625000</td>\n",
       "    </tr>\n",
       "    <tr>\n",
       "      <th>std</th>\n",
       "      <td>5.318074</td>\n",
       "    </tr>\n",
       "    <tr>\n",
       "      <th>min</th>\n",
       "      <td>735.000000</td>\n",
       "    </tr>\n",
       "    <tr>\n",
       "      <th>25%</th>\n",
       "      <td>749.000000</td>\n",
       "    </tr>\n",
       "    <tr>\n",
       "      <th>50%</th>\n",
       "      <td>752.000000</td>\n",
       "    </tr>\n",
       "    <tr>\n",
       "      <th>75%</th>\n",
       "      <td>754.000000</td>\n",
       "    </tr>\n",
       "    <tr>\n",
       "      <th>max</th>\n",
       "      <td>758.000000</td>\n",
       "    </tr>\n",
       "  </tbody>\n",
       "</table>\n",
       "</div>"
      ],
      "text/plain": [
       "         Pressure\n",
       "count   48.000000\n",
       "mean   750.625000\n",
       "std      5.318074\n",
       "min    735.000000\n",
       "25%    749.000000\n",
       "50%    752.000000\n",
       "75%    754.000000\n",
       "max    758.000000"
      ]
     },
     "execution_count": 222,
     "metadata": {},
     "output_type": "execute_result"
    }
   ],
   "source": [
    "dates.describe()"
   ]
  },
  {
   "cell_type": "code",
   "execution_count": 225,
   "id": "a4f771ce",
   "metadata": {},
   "outputs": [],
   "source": [
    "statistic_table = pd.Series(data=[48.0, 750.625, 5.318074, 735.0, 758.0, 750.60645, -1.19943, 0.96344177], index=[\"count\", \"mean\", \"std\", \"min\", \"max\", \"g_mean\", \"skew\", \"kurtosis\"])"
   ]
  },
  {
   "cell_type": "code",
   "execution_count": 227,
   "id": "3201dcec",
   "metadata": {},
   "outputs": [
    {
     "data": {
      "text/plain": [
       "count        48.000000\n",
       "mean        750.625000\n",
       "std           5.318074\n",
       "min         735.000000\n",
       "max         758.000000\n",
       "g_mean      750.606450\n",
       "skew         -1.199430\n",
       "kurtosis      0.963442\n",
       "dtype: float64"
      ]
     },
     "execution_count": 227,
     "metadata": {},
     "output_type": "execute_result"
    }
   ],
   "source": [
    "statistic_table"
   ]
  },
  {
   "cell_type": "code",
   "execution_count": 228,
   "id": "2dbe1e98",
   "metadata": {},
   "outputs": [
    {
     "data": {
      "text/plain": [
       "err3    142.665\n",
       "err4     91.304\n",
       "err5     64.979\n",
       "err6     50.026\n",
       "dtype: float64"
      ]
     },
     "execution_count": 228,
     "metadata": {},
     "output_type": "execute_result"
    }
   ],
   "source": [
    "err"
   ]
  },
  {
   "cell_type": "code",
   "execution_count": null,
   "id": "726d8644",
   "metadata": {},
   "outputs": [],
   "source": []
  }
 ],
 "metadata": {
  "kernelspec": {
   "display_name": "Python 3 (ipykernel)",
   "language": "python",
   "name": "python3"
  },
  "language_info": {
   "codemirror_mode": {
    "name": "ipython",
    "version": 3
   },
   "file_extension": ".py",
   "mimetype": "text/x-python",
   "name": "python",
   "nbconvert_exporter": "python",
   "pygments_lexer": "ipython3",
   "version": "3.9.7"
  }
 },
 "nbformat": 4,
 "nbformat_minor": 5
}
