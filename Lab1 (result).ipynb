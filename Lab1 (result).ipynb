{
 "cells": [
  {
   "cell_type": "code",
   "execution_count": 212,
   "id": "10a555be",
   "metadata": {},
   "outputs": [],
   "source": [
    "import matplotlib.pyplot as plt\n",
    "import numpy as np\n",
    "import pandas as pd"
   ]
  },
  {
   "cell_type": "code",
   "execution_count": 213,
   "id": "d4c38e20",
   "metadata": {},
   "outputs": [],
   "source": [
    "dates = pd.read_excel(\"dates.xlsx\", sheet_name=\"Лист1\")"
   ]
  },
  {
   "cell_type": "code",
   "execution_count": 214,
   "id": "2b798694",
   "metadata": {},
   "outputs": [],
   "source": [
    "x_dates = np.arange(np.datetime64('2022-08-01'), np.datetime64('2022-09-18'), dtype='datetime64[D]')\n",
    "y_atm_pr = dates['Pressure']"
   ]
  },
  {
   "cell_type": "code",
   "execution_count": 215,
   "id": "cf2f36fb",
   "metadata": {},
   "outputs": [
    {
     "data": {
      "image/png": "[encoded data removed]",
      "text/plain": [
       "<Figure size 432x288 with 1 Axes>"
      ]
     },
     "metadata": {
      "needs_background": "light"
     },
     "output_type": "display_data"
    }
   ],
   "source": [
    "from datetime import datetime, timedelta\n",
    "import matplotlib as mpl\n",
    "fig, ax = plt.subplots()\n",
    "x = x_dates\n",
    "y = dates[\"Pressure\"]\n",
    "ax.plot(x, y)\n",
    "# ax.set(xlim=(0, 40), xticks=np.arange(0,41,5), ylim=(0, 100), yticks=np.arange(0,101, 10))\n",
    "ax.set(xticks=np.arange(np.datetime64('2022-08-01'), np.datetime64('2022-09-18'), np.timedelta64(3,'D')))\n",
    "cdf = mpl.dates.ConciseDateFormatter(ax.xaxis.get_major_locator())\n",
    "ax.xaxis.set_major_formatter(cdf);\n",
    "ax.set_xlabel('Date (day)')\n",
    "ax.set_ylabel('Atmosphere Pressure (mm Hg)')\n",
    "# ax.set_title('Climate')\n",
    "ax.grid('True')\n",
    "plt.show()\n",
    "fig.savefig(\"plot_easy.png\")"
   ]
  },
  {
   "cell_type": "code",
   "execution_count": 216,
   "id": "ac7ef707",
   "metadata": {},
   "outputs": [],
   "source": [
    "arr = y_atm_pr.copy()\n",
    "window_size = 3\n",
    "\n",
    "i = 0\n",
    "# Initialize an empty list to store moving averages\n",
    "moving_averages_3 = np.array([])\n",
    "  \n",
    "# Loop through the array to consider\n",
    "# every window of size 3\n",
    "while i < arr.size - window_size + 1:\n",
    "    \n",
    "    # Store elements from i to i+window_size\n",
    "    # in list to get the current window\n",
    "    window = arr[i : i + window_size]\n",
    "  \n",
    "    # Calculate the average of current window\n",
    "    window_average = np.round(np.sum(window) / window_size, 2)\n",
    "      \n",
    "    # Store the average of current\n",
    "    # window in moving average list\n",
    "    moving_averages_3 = np.append(moving_averages_3, [[window_average]])\n",
    "      \n",
    "    # Shift window to right by one position\n",
    "    i += 1"
   ]
  },
  {
   "cell_type": "code",
   "execution_count": 217,
   "id": "e8a742d1",
   "metadata": {},
   "outputs": [],
   "source": [
    "arr = y_atm_pr.copy()\n",
    "window_size = 4\n",
    "\n",
    "i = 0\n",
    "# Initialize an empty list to store moving averages\n",
    "moving_averages_4 = np.array([])\n",
    "  \n",
    "# Loop through the array to consider\n",
    "# every window of size 4\n",
    "while i < arr.size - window_size + 1:\n",
    "    \n",
    "    # Store elements from i to i+window_size\n",
    "    # in list to get the current window\n",
    "    window = arr[i : i + window_size]\n",
    "  \n",
    "    # Calculate the average of current window\n",
    "    window_average = np.round(np.sum(window) / window_size, 2)\n",
    "      \n",
    "    # Store the average of current\n",
    "    # window in moving average list\n",
    "    moving_averages_4 = np.append(moving_averages_4, [[window_average]])\n",
    "      \n",
    "    # Shift window to right by one position\n",
    "    i += 1"
   ]
  },
  {
   "cell_type": "code",
   "execution_count": 218,
   "id": "512f261b",
   "metadata": {},
   "outputs": [],
   "source": [
    "arr = y_atm_pr.copy()\n",
    "window_size = 5\n",
    "\n",
    "i = 0\n",
    "# Initialize an empty list to store moving averages\n",
    "moving_averages_5 = np.array([])\n",
    "  \n",
    "# Loop through the array to consider\n",
    "# every window of size 5\n",
    "while i < arr.size - window_size + 1:\n",
    "    \n",
    "    # Store elements from i to i+window_size\n",
    "    # in list to get the current window\n",
    "    window = arr[i : i + window_size]\n",
    "  \n",
    "    # Calculate the average of current window\n",
    "    window_average = np.round(np.sum(window) / window_size, 2)\n",
    "      \n",
    "    # Store the average of current\n",
    "    # window in moving average list\n",
    "    moving_averages_5 = np.append(moving_averages_5, [[window_average]])\n",
    "      \n",
    "    # Shift window to right by one position\n",
    "    i += 1"
   ]
  },
  {
   "cell_type": "code",
   "execution_count": 219,
   "id": "3c891555",
   "metadata": {},
   "outputs": [],
   "source": [
    "arr = y_atm_pr.copy()\n",
    "window_size = 6\n",
    "\n",
    "i = 0\n",
    "# Initialize an empty list to store moving averages\n",
    "moving_averages_6 = np.array([])\n",
    "  \n",
    "# Loop through the array to consider\n",
    "# every window of size 6\n",
    "while i < arr.size - window_size + 1:\n",
    "    \n",
    "    # Store elements from i to i+window_size\n",
    "    # in list to get the current window\n",
    "    window = arr[i : i + window_size]\n",
    "  \n",
    "    # Calculate the average of current window\n",
    "    window_average = np.round(np.sum(window) / window_size, 2)\n",
    "      \n",
    "    # Store the average of current\n",
    "    # window in moving average list\n",
    "    moving_averages_6 = np.append(moving_averages_6, [[window_average]])\n",
    "      \n",
    "    # Shift window to right by one position\n",
    "    i += 1"
   ]
  },
  {
   "cell_type": "code",
   "execution_count": 220,
   "id": "a83cf23f",
   "metadata": {},
   "outputs": [],
   "source": [
    "moving_averages = [moving_averages_3, moving_averages_4, moving_averages_5, moving_averages_6]"
   ]
  },
  {
   "cell_type": "code",
   "execution_count": 221,
   "id": "2a0e90f6",
   "metadata": {},
   "outputs": [],
   "source": [
    "y_atm_pr_for_3 = y_atm_pr[1:1+moving_averages_3.size]\n",
    "y_atm_pr_for_4 = y_atm_pr[1:1+moving_averages_4.size]\n",
    "y_atm_pr_for_5 = y_atm_pr[2:2+moving_averages_5.size]\n",
    "y_atm_pr_for_6 = y_atm_pr[2:2+moving_averages_6.size]\n",
    "y_atm_pr_for = [y_atm_pr_for_3, y_atm_pr_for_4, y_atm_pr_for_5, y_atm_pr_for_6]"
   ]
  },
  {
   "cell_type": "code",
   "execution_count": 222,
   "id": "be182dee",
   "metadata": {},
   "outputs": [],
   "source": [
    "mse3 = np.sqrt(np.sum(np.square(np.subtract(y_atm_pr_for_3, moving_averages_3)))/3)\n",
    "mse4 = np.sqrt(np.sum(np.square(np.subtract(y_atm_pr_for_4, moving_averages_4)))/4)\n",
    "mse5 = np.sqrt(np.sum(np.square(np.subtract(y_atm_pr_for_5, moving_averages_5)))/5)\n",
    "mse6 = np.sqrt(np.sum(np.square(np.subtract(y_atm_pr_for_6, moving_averages_6)))/6)\n",
    "mse = [mse3, mse4, mse5, mse6]"
   ]
  },
  {
   "cell_type": "code",
   "execution_count": 223,
   "id": "80e8b4d9",
   "metadata": {},
   "outputs": [],
   "source": [
    "mse_index = mse.index(np.min(mse))"
   ]
  },
  {
   "cell_type": "code",
   "execution_count": 224,
   "id": "cce53400",
   "metadata": {},
   "outputs": [],
   "source": [
    "moving_averages_min = moving_averages[mse_index]\n",
    "y_atm_pr_for_min = y_atm_pr_for[mse_index]"
   ]
  },
  {
   "cell_type": "code",
   "execution_count": 225,
   "id": "f72f6c9e",
   "metadata": {},
   "outputs": [],
   "source": [
    "mv = pd.Series(index = np.arange(1, moving_averages_min.size+1), data = moving_averages_min)"
   ]
  },
  {
   "cell_type": "code",
   "execution_count": 226,
   "id": "e1cfec1d",
   "metadata": {},
   "outputs": [],
   "source": [
    "mv.to_excel(\"moving_averages.xlsx\")"
   ]
  },
  {
   "cell_type": "code",
   "execution_count": 227,
   "id": "0476e1df",
   "metadata": {},
   "outputs": [
    {
     "data": {
      "image/png": "[encoded data removed]",
      "text/plain": [
       "<Figure size 432x288 with 1 Axes>"
      ]
     },
     "metadata": {
      "needs_background": "light"
     },
     "output_type": "display_data"
    }
   ],
   "source": [
    "from datetime import datetime, timedelta\n",
    "import matplotlib as mpl\n",
    "fig, ax = plt.subplots()\n",
    "x = x_dates\n",
    "y = dates[\"Pressure\"]\n",
    "ax.plot(x, y, label = \"line\")\n",
    "# ax.set(xlim=(0, 40), xticks=np.arange(0,41,5), ylim=(0, 100), yticks=np.arange(0,101, 10))\n",
    "x_new = x_dates[1:moving_averages_min.size+1]\n",
    "# y_new = dates_with_the_best_err[\"Pressure\"]\n",
    "y_new = moving_averages_min\n",
    "ax.plot(x_new, y_new, label = \"line with the best MSE\")\n",
    "ax.set(xticks=np.arange(np.datetime64('2022-08-01'), np.datetime64('2022-09-18'), np.timedelta64(3,'D')))\n",
    "cdf = mpl.dates.ConciseDateFormatter(ax.xaxis.get_major_locator())\n",
    "ax.xaxis.set_major_formatter(cdf);\n",
    "ax.set_xlabel('Date (day)')\n",
    "ax.set_ylabel('Atmosphere Pressure (mm Hg)')\n",
    "# ax.set_title('Climate')\n",
    "ax.grid('True')\n",
    "ax.legend()\n",
    "plt.show()\n",
    "fig.savefig(\"plot1.png\");"
   ]
  },
  {
   "cell_type": "code",
   "execution_count": 228,
   "id": "07f89105",
   "metadata": {},
   "outputs": [],
   "source": [
    "mu = np.mean(y_atm_pr)\n",
    "sigma = np.std(y_atm_pr)"
   ]
  },
  {
   "cell_type": "code",
   "execution_count": 229,
   "id": "0053d8a3",
   "metadata": {},
   "outputs": [],
   "source": [
    "h = (np.max(np.sort(y_atm_pr))-np.min(np.sort(y_atm_pr)))/(1+3.322*np.log10(48))"
   ]
  },
  {
   "cell_type": "code",
   "execution_count": 230,
   "id": "94d2a7cd",
   "metadata": {},
   "outputs": [],
   "source": [
    "y_atm_pr_with_h = np.arange(np.min(y_atm_pr), np.max(y_atm_pr)+1, h)"
   ]
  },
  {
   "cell_type": "code",
   "execution_count": 231,
   "id": "968e00bb",
   "metadata": {},
   "outputs": [
    {
     "data": {
      "text/plain": [
       "array([735.        , 738.49274241, 741.98548481, 745.47822722,\n",
       "       748.97096962, 752.46371203, 755.95645443])"
      ]
     },
     "execution_count": 231,
     "metadata": {},
     "output_type": "execute_result"
    }
   ],
   "source": [
    "y_atm_pr_with_h"
   ]
  },
  {
   "cell_type": "code",
   "execution_count": 232,
   "id": "f1f23f4b",
   "metadata": {},
   "outputs": [],
   "source": [
    "min_y = np.min(y_atm_pr)\n",
    "max_y_1 = np.max(y_atm_pr)\n",
    "max_y_2 = np.max(y_atm_pr_with_h)"
   ]
  },
  {
   "cell_type": "code",
   "execution_count": 233,
   "id": "32c90783",
   "metadata": {},
   "outputs": [
    {
     "data": {
      "image/png": "[encoded data removed]",
      "text/plain": [
       "<Figure size 432x288 with 1 Axes>"
      ]
     },
     "metadata": {
      "needs_background": "light"
     },
     "output_type": "display_data"
    }
   ],
   "source": [
    "fig, ax = plt.subplots()\n",
    "# dates = pd.read_excel(\"dates.xlsx\", sheet_name=\"Лист1\")\n",
    "# y_atm_pr = dates['Pressure']\n",
    "count, bins, ignored = ax.hist(np.sort(y_atm_pr), bins = np.arange(min_y, max_y_2+2*h, h), density=True, label='hist')\n",
    "# ax.plot(bins, 1/(sigma * np.sqrt(2 *np.pi)) *\n",
    "#         np.exp( - (bins - mu)**2/ (2 * sigma**2) ),\n",
    "#         linewidth=2, color='r', label='line')\n",
    "# [h for i in range(y_atm_pr_with_h.size-1)]\n",
    "# ax.set(xlim=(np.min(data2),np.max(data2)), xticks=np.arange(np.min(data2), np.max(data2_with_h), h))\n",
    "import matplotlib.pyplot as plt\n",
    "import numpy as np\n",
    "import scipy.stats as stats\n",
    "import math\n",
    "\n",
    "mu = np.mean(y_atm_pr)\n",
    "sigma = np.std(y_atm_pr)\n",
    "# sigma = math.sqrt(variance)\n",
    "x = np.linspace(mu - 3*sigma, mu + 3*sigma, 100)\n",
    "ax.plot(x, stats.norm.pdf(x, mu, sigma), label='line')\n",
    "dates = pd.read_excel(\"dates.xlsx\", sheet_name=\"Лист1\")\n",
    "y_atm_pr = dates['Pressure']\n",
    "ax.set(xlim=(min_y, max_y_2+h),xticks=np.arange(min_y, max_y_2+2*h, h))\n",
    "# ax.axis([15, 108, 0, 0.033])\n",
    "# ax.annotate('local max', xy=(np.mean(data2), 200), xytext=(np.mean(data2), 100),\n",
    "#             arrowprops=dict(facecolor='black', shrink=0.05))\n",
    "# ax.set_xlim(np.min(data2), np.max(data2))\n",
    "# ax.set(xlim=(np.min(data2),np.max(data2)), xticks=np.linspace(np.min(data2), np.max(data2_with_h), data2_with_h.size))\n",
    "ax.set_xlabel('Atmosphere Pressure (mm Hg)')\n",
    "ax.set_ylabel('Posibility')\n",
    "# ax.set_title('Histogram')\n",
    "ax.legend()\n",
    "plt.show()\n",
    "fig.savefig(\"hist1.png\");"
   ]
  },
  {
   "cell_type": "code",
   "execution_count": 234,
   "id": "40249886",
   "metadata": {},
   "outputs": [
    {
     "data": {
      "image/png": "[encoded data removed]",
      "text/plain": [
       "<Figure size 432x288 with 1 Axes>"
      ]
     },
     "metadata": {
      "needs_background": "light"
     },
     "output_type": "display_data"
    }
   ],
   "source": [
    "import numpy as np\n",
    "import matplotlib.pyplot as plt\n",
    "\n",
    "\n",
    "fig1, ax = plt.subplots()\n",
    "ax.boxplot(y_atm_pr,patch_artist=True,  medianprops={\"color\": \"white\", \"linewidth\": 0.5},\n",
    "                boxprops={\"facecolor\": \"C0\", \"edgecolor\": \"white\",\n",
    "                          \"linewidth\": 0.5},\n",
    "                whiskerprops={\"color\": \"C0\", \"linewidth\": 1.5},\n",
    "                capprops={\"color\": \"C0\", \"linewidth\": 1.5})\n",
    "ax.plot(1, 766.579222,'o-', color='green')\n",
    "ax.plot([0.5, 1, 1.5], [734.67, 734.67, 734.67])\n",
    "ax.plot([0.5, 1, 1.5], [761.261148, 761.261148, 761.261148])\n",
    "ax.plot([0.5, 1, 1.5], [739.988852, 739.988852, 739.988852])\n",
    "\n",
    "ax.text(1.09, 735.5, r\"$\\mu=750.625$\" + \"\\n\" + r\"$\\sigma=5.318074$\" + \"\\n\"  +  \"min = 735.0\" + \"\\n\" + \"max = 758.0\" + \"\\n\" \\\n",
    "        + \"IQR - Interquartile Range\" + \"\\n\" + \"IQR = (749.0, 754.0)\", bbox=dict(facecolor='none', edgecolor='C0'))\n",
    "ax.grid('True')\n",
    "\n",
    "\n",
    "# ax.set_title('Boxplot')\n",
    "ax.set_ylabel(\"Atmosphere Pressure (mm Hg)\")\n",
    "plt.show()\n",
    "fig.savefig(\"boxplot2.png\");"
   ]
  },
  {
   "cell_type": "code",
   "execution_count": 235,
   "id": "3c827d0f",
   "metadata": {},
   "outputs": [],
   "source": [
    "import numpy as np\n",
    "\n",
    "#define custom function\n",
    "def g_mean(x):\n",
    "    a = np.log(x)\n",
    "    return np.exp(a.mean())\n",
    "\n",
    "#calculate geometric mean "
   ]
  },
  {
   "cell_type": "code",
   "execution_count": 236,
   "id": "e05495dc",
   "metadata": {},
   "outputs": [],
   "source": [
    "from scipy.stats import skew\n",
    "skew = skew(y_atm_pr, axis=0, bias=True)\n",
    "from scipy.stats import kurtosis\n",
    "kurtosis = kurtosis(y_atm_pr, axis=0, bias=True)"
   ]
  },
  {
   "cell_type": "code",
   "execution_count": 237,
   "id": "ddda62c1",
   "metadata": {},
   "outputs": [],
   "source": [
    "skew = np.round(skew, 3)\n",
    "kurtosis = np.round(kurtosis, 3)"
   ]
  },
  {
   "cell_type": "code",
   "execution_count": 238,
   "id": "e05b3007",
   "metadata": {},
   "outputs": [
    {
     "data": {
      "text/plain": [
       "-1.199"
      ]
     },
     "execution_count": 238,
     "metadata": {},
     "output_type": "execute_result"
    }
   ],
   "source": [
    "skew"
   ]
  },
  {
   "cell_type": "code",
   "execution_count": 239,
   "id": "6f488f4e",
   "metadata": {},
   "outputs": [
    {
     "data": {
      "text/plain": [
       "0.963"
      ]
     },
     "execution_count": 239,
     "metadata": {},
     "output_type": "execute_result"
    }
   ],
   "source": [
    "kurtosis"
   ]
  },
  {
   "cell_type": "code",
   "execution_count": 240,
   "id": "f1d75d8b",
   "metadata": {},
   "outputs": [],
   "source": [
    "min = np.min(y_atm_pr)\n",
    "max = np.max(y_atm_pr)"
   ]
  },
  {
   "cell_type": "code",
   "execution_count": 241,
   "id": "40569433",
   "metadata": {},
   "outputs": [],
   "source": [
    "from scipy import stats as st\n",
    "import numpy as np\n",
    "mode_start = st.mode(y_atm_pr)"
   ]
  },
  {
   "cell_type": "code",
   "execution_count": 242,
   "id": "fcb8c33a",
   "metadata": {},
   "outputs": [],
   "source": [
    "mean_chron = ((y_atm_pr[0]+y_atm_pr[y_atm_pr.size-1])/2 + np.sum(y_atm_pr[1:-1]))/ (y_atm_pr.size-1)"
   ]
  },
  {
   "cell_type": "code",
   "execution_count": 243,
   "id": "71cf1024",
   "metadata": {},
   "outputs": [],
   "source": [
    "mean = dates.describe().loc['mean'].astype(int)[0]\n",
    "median_Q2 = dates.describe().loc['50%'].astype(int)[0]\n",
    "mode = np.floor(mode_start).astype(int)[0,0]\n",
    "std = dates.describe().loc['std'].astype(int)[0]\n",
    "Q1 = dates.describe().loc['25%'].astype(int)[0]\n",
    "Q3 = dates.describe().loc['75%'].astype(int)[0]\n",
    "g_mean_int = np.floor(g_mean(y_atm_pr)).astype(int)\n",
    "count = y_atm_pr.size\n",
    "mean_chron = np.floor(mean_chron).astype(int)"
   ]
  },
  {
   "cell_type": "code",
   "execution_count": 244,
   "id": "80498eb4",
   "metadata": {},
   "outputs": [],
   "source": [
    "statistic_table = pd.Series(data=[mean, median_Q2, mode, std, Q1, Q3, g_mean_int, skew, kurtosis, count, mean_chron], index=[\"mean\", \"median(Q2)\", \"mode\", \"std\", \"Q1\", \"Q3\", \"g_mean\", \"skew\", \"kurtosis\", \"count\", \"mean_chron\"])"
   ]
  },
  {
   "cell_type": "code",
   "execution_count": 245,
   "id": "31dc9d63",
   "metadata": {},
   "outputs": [
    {
     "data": {
      "text/plain": [
       "mean          750.000\n",
       "median(Q2)    752.000\n",
       "mode          753.000\n",
       "std             5.000\n",
       "Q1            749.000\n",
       "Q3            754.000\n",
       "g_mean        750.000\n",
       "skew           -1.199\n",
       "kurtosis        0.963\n",
       "count          48.000\n",
       "mean_chron    750.000\n",
       "dtype: float64"
      ]
     },
     "execution_count": 245,
     "metadata": {},
     "output_type": "execute_result"
    }
   ],
   "source": [
    "statistic_table"
   ]
  },
  {
   "cell_type": "code",
   "execution_count": null,
   "id": "cc86a1ae",
   "metadata": {},
   "outputs": [],
   "source": []
  }
 ],
 "metadata": {
  "kernelspec": {
   "display_name": "Python 3 (ipykernel)",
   "language": "python",
   "name": "python3"
  },
  "language_info": {
   "codemirror_mode": {
    "name": "ipython",
    "version": 3
   },
   "file_extension": ".py",
   "mimetype": "text/x-python",
   "name": "python",
   "nbconvert_exporter": "python",
   "pygments_lexer": "ipython3",
   "version": "3.9.7"
  }
 },
 "nbformat": 4,
 "nbformat_minor": 5
}
